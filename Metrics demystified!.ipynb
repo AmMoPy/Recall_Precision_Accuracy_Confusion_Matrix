{
 "cells": [
  {
   "cell_type": "markdown",
   "metadata": {},
   "source": [
    "<a id='Toc'></a>"
   ]
  },
  {
   "cell_type": "markdown",
   "metadata": {},
   "source": [
    "## Classification Metrics demystified!\n",
    "\n",
    "You have a model and some predictions now what? Read on!\n",
    "\n",
    "##### Table of contents\n",
    "\n",
    "* <a href=\"#pre\" style='color:#a52a2a'>Preprocessing</a>\n",
    "* <a href=\"#one\" style='color:#a52a2a'>One-hot encoding</a>\n",
    "* <a href=\"#acc\" style='color:#a52a2a'>Metrics</a>\n",
    "    * <a href=\"#acc\" style='color:#dc143c'>Accuracy</a>\n",
    "    * <a href=\"#thr\" style='color:#dc143c'>Threshold Moving</a>\n",
    "    * <a href=\"#con\" style='color:#dc143c'>Confusion Matrix</a>\n",
    "    * <a href=\"#prec\" style='color:#dc143c'>Precision and recall</a>\n",
    "    * <a href=\"#roc\" style='color:#dc143c'>ROC and AUC</a>\n",
    "        * <a href=\"#roc_c\" style='color:#dc143c'>ROC curve</a>\n",
    "        * <a href=\"#auc\" style='color:#dc143c'>AUC</a>\n",
    "        * <a href=\"#sum\" style='color:#dc143c'>Summary - AUC</a>\n",
    "* <a href=\"#thre\" style='color:#a52a2a'>Threshold moving - Enhanced</a>"
   ]
  },
  {
   "cell_type": "code",
   "execution_count": 1,
   "metadata": {},
   "outputs": [],
   "source": [
    "import pandas as pd\n",
    "import numpy as np\n",
    "from sklearn.linear_model import LogisticRegression\n",
    "from sklearn.model_selection import train_test_split\n",
    "from sklearn.metrics import accuracy_score, confusion_matrix, classification_report, roc_auc_score, auc\n",
    "from IPython.display import display\n",
    "from sklearn.feature_extraction import DictVectorizer\n",
    "from tqdm import tqdm\n",
    "\n",
    "import seaborn as sns\n",
    "from matplotlib import pyplot as plt\n",
    "\n",
    "# from jupyterthemes import jtplot\n",
    "# jtplot.style(context='notebook', ticks=True, grid=False)\n",
    "\n",
    "%matplotlib inline"
   ]
  },
  {
   "cell_type": "code",
   "execution_count": 2,
   "metadata": {},
   "outputs": [
    {
     "data": {
      "text/plain": [
       "(7043, 21)"
      ]
     },
     "execution_count": 2,
     "metadata": {},
     "output_type": "execute_result"
    }
   ],
   "source": [
    "# load data\n",
    "\n",
    "churn_df = pd.read_csv('WA_Fn-UseC_-Telco-Customer-Churn.csv')\n",
    "\n",
    "churn_df.shape"
   ]
  },
  {
   "cell_type": "markdown",
   "metadata": {},
   "source": [
    "<a id='pre'></a>"
   ]
  },
  {
   "cell_type": "markdown",
   "metadata": {},
   "source": [
    "### Preprocessing"
   ]
  },
  {
   "cell_type": "code",
   "execution_count": 3,
   "metadata": {},
   "outputs": [
    {
     "data": {
      "text/html": [
       "<div>\n",
       "<style scoped>\n",
       "    .dataframe tbody tr th:only-of-type {\n",
       "        vertical-align: middle;\n",
       "    }\n",
       "\n",
       "    .dataframe tbody tr th {\n",
       "        vertical-align: top;\n",
       "    }\n",
       "\n",
       "    .dataframe thead th {\n",
       "        text-align: right;\n",
       "    }\n",
       "</style>\n",
       "<table border=\"1\" class=\"dataframe\">\n",
       "  <thead>\n",
       "    <tr style=\"text-align: right;\">\n",
       "      <th></th>\n",
       "      <th>0</th>\n",
       "      <th>1</th>\n",
       "      <th>2</th>\n",
       "      <th>3</th>\n",
       "      <th>4</th>\n",
       "    </tr>\n",
       "  </thead>\n",
       "  <tbody>\n",
       "    <tr>\n",
       "      <th>customerID</th>\n",
       "      <td>7590-VHVEG</td>\n",
       "      <td>5575-GNVDE</td>\n",
       "      <td>3668-QPYBK</td>\n",
       "      <td>7795-CFOCW</td>\n",
       "      <td>9237-HQITU</td>\n",
       "    </tr>\n",
       "    <tr>\n",
       "      <th>gender</th>\n",
       "      <td>Female</td>\n",
       "      <td>Male</td>\n",
       "      <td>Male</td>\n",
       "      <td>Male</td>\n",
       "      <td>Female</td>\n",
       "    </tr>\n",
       "    <tr>\n",
       "      <th>SeniorCitizen</th>\n",
       "      <td>0</td>\n",
       "      <td>0</td>\n",
       "      <td>0</td>\n",
       "      <td>0</td>\n",
       "      <td>0</td>\n",
       "    </tr>\n",
       "    <tr>\n",
       "      <th>Partner</th>\n",
       "      <td>Yes</td>\n",
       "      <td>No</td>\n",
       "      <td>No</td>\n",
       "      <td>No</td>\n",
       "      <td>No</td>\n",
       "    </tr>\n",
       "    <tr>\n",
       "      <th>Dependents</th>\n",
       "      <td>No</td>\n",
       "      <td>No</td>\n",
       "      <td>No</td>\n",
       "      <td>No</td>\n",
       "      <td>No</td>\n",
       "    </tr>\n",
       "    <tr>\n",
       "      <th>tenure</th>\n",
       "      <td>1</td>\n",
       "      <td>34</td>\n",
       "      <td>2</td>\n",
       "      <td>45</td>\n",
       "      <td>2</td>\n",
       "    </tr>\n",
       "    <tr>\n",
       "      <th>PhoneService</th>\n",
       "      <td>No</td>\n",
       "      <td>Yes</td>\n",
       "      <td>Yes</td>\n",
       "      <td>No</td>\n",
       "      <td>Yes</td>\n",
       "    </tr>\n",
       "    <tr>\n",
       "      <th>MultipleLines</th>\n",
       "      <td>No phone service</td>\n",
       "      <td>No</td>\n",
       "      <td>No</td>\n",
       "      <td>No phone service</td>\n",
       "      <td>No</td>\n",
       "    </tr>\n",
       "    <tr>\n",
       "      <th>InternetService</th>\n",
       "      <td>DSL</td>\n",
       "      <td>DSL</td>\n",
       "      <td>DSL</td>\n",
       "      <td>DSL</td>\n",
       "      <td>Fiber optic</td>\n",
       "    </tr>\n",
       "    <tr>\n",
       "      <th>OnlineSecurity</th>\n",
       "      <td>No</td>\n",
       "      <td>Yes</td>\n",
       "      <td>Yes</td>\n",
       "      <td>Yes</td>\n",
       "      <td>No</td>\n",
       "    </tr>\n",
       "    <tr>\n",
       "      <th>OnlineBackup</th>\n",
       "      <td>Yes</td>\n",
       "      <td>No</td>\n",
       "      <td>Yes</td>\n",
       "      <td>No</td>\n",
       "      <td>No</td>\n",
       "    </tr>\n",
       "    <tr>\n",
       "      <th>DeviceProtection</th>\n",
       "      <td>No</td>\n",
       "      <td>Yes</td>\n",
       "      <td>No</td>\n",
       "      <td>Yes</td>\n",
       "      <td>No</td>\n",
       "    </tr>\n",
       "    <tr>\n",
       "      <th>TechSupport</th>\n",
       "      <td>No</td>\n",
       "      <td>No</td>\n",
       "      <td>No</td>\n",
       "      <td>Yes</td>\n",
       "      <td>No</td>\n",
       "    </tr>\n",
       "    <tr>\n",
       "      <th>StreamingTV</th>\n",
       "      <td>No</td>\n",
       "      <td>No</td>\n",
       "      <td>No</td>\n",
       "      <td>No</td>\n",
       "      <td>No</td>\n",
       "    </tr>\n",
       "    <tr>\n",
       "      <th>StreamingMovies</th>\n",
       "      <td>No</td>\n",
       "      <td>No</td>\n",
       "      <td>No</td>\n",
       "      <td>No</td>\n",
       "      <td>No</td>\n",
       "    </tr>\n",
       "    <tr>\n",
       "      <th>Contract</th>\n",
       "      <td>Month-to-month</td>\n",
       "      <td>One year</td>\n",
       "      <td>Month-to-month</td>\n",
       "      <td>One year</td>\n",
       "      <td>Month-to-month</td>\n",
       "    </tr>\n",
       "    <tr>\n",
       "      <th>PaperlessBilling</th>\n",
       "      <td>Yes</td>\n",
       "      <td>No</td>\n",
       "      <td>Yes</td>\n",
       "      <td>No</td>\n",
       "      <td>Yes</td>\n",
       "    </tr>\n",
       "    <tr>\n",
       "      <th>PaymentMethod</th>\n",
       "      <td>Electronic check</td>\n",
       "      <td>Mailed check</td>\n",
       "      <td>Mailed check</td>\n",
       "      <td>Bank transfer (automatic)</td>\n",
       "      <td>Electronic check</td>\n",
       "    </tr>\n",
       "    <tr>\n",
       "      <th>MonthlyCharges</th>\n",
       "      <td>29.85</td>\n",
       "      <td>56.95</td>\n",
       "      <td>53.85</td>\n",
       "      <td>42.3</td>\n",
       "      <td>70.7</td>\n",
       "    </tr>\n",
       "    <tr>\n",
       "      <th>TotalCharges</th>\n",
       "      <td>29.85</td>\n",
       "      <td>1889.5</td>\n",
       "      <td>108.15</td>\n",
       "      <td>1840.75</td>\n",
       "      <td>151.65</td>\n",
       "    </tr>\n",
       "    <tr>\n",
       "      <th>Churn</th>\n",
       "      <td>No</td>\n",
       "      <td>No</td>\n",
       "      <td>Yes</td>\n",
       "      <td>No</td>\n",
       "      <td>Yes</td>\n",
       "    </tr>\n",
       "  </tbody>\n",
       "</table>\n",
       "</div>"
      ],
      "text/plain": [
       "                                 0             1               2  \\\n",
       "customerID              7590-VHVEG    5575-GNVDE      3668-QPYBK   \n",
       "gender                      Female          Male            Male   \n",
       "SeniorCitizen                    0             0               0   \n",
       "Partner                        Yes            No              No   \n",
       "Dependents                      No            No              No   \n",
       "tenure                           1            34               2   \n",
       "PhoneService                    No           Yes             Yes   \n",
       "MultipleLines     No phone service            No              No   \n",
       "InternetService                DSL           DSL             DSL   \n",
       "OnlineSecurity                  No           Yes             Yes   \n",
       "OnlineBackup                   Yes            No             Yes   \n",
       "DeviceProtection                No           Yes              No   \n",
       "TechSupport                     No            No              No   \n",
       "StreamingTV                     No            No              No   \n",
       "StreamingMovies                 No            No              No   \n",
       "Contract            Month-to-month      One year  Month-to-month   \n",
       "PaperlessBilling               Yes            No             Yes   \n",
       "PaymentMethod     Electronic check  Mailed check    Mailed check   \n",
       "MonthlyCharges               29.85         56.95           53.85   \n",
       "TotalCharges                 29.85        1889.5          108.15   \n",
       "Churn                           No            No             Yes   \n",
       "\n",
       "                                          3                 4  \n",
       "customerID                       7795-CFOCW        9237-HQITU  \n",
       "gender                                 Male            Female  \n",
       "SeniorCitizen                             0                 0  \n",
       "Partner                                  No                No  \n",
       "Dependents                               No                No  \n",
       "tenure                                   45                 2  \n",
       "PhoneService                             No               Yes  \n",
       "MultipleLines              No phone service                No  \n",
       "InternetService                         DSL       Fiber optic  \n",
       "OnlineSecurity                          Yes                No  \n",
       "OnlineBackup                             No                No  \n",
       "DeviceProtection                        Yes                No  \n",
       "TechSupport                             Yes                No  \n",
       "StreamingTV                              No                No  \n",
       "StreamingMovies                          No                No  \n",
       "Contract                           One year    Month-to-month  \n",
       "PaperlessBilling                         No               Yes  \n",
       "PaymentMethod     Bank transfer (automatic)  Electronic check  \n",
       "MonthlyCharges                         42.3              70.7  \n",
       "TotalCharges                        1840.75            151.65  \n",
       "Churn                                    No               Yes  "
      ]
     },
     "execution_count": 3,
     "metadata": {},
     "output_type": "execute_result"
    }
   ],
   "source": [
    "churn_df.head().T"
   ]
  },
  {
   "cell_type": "code",
   "execution_count": 4,
   "metadata": {},
   "outputs": [
    {
     "data": {
      "text/plain": [
       "customerID           object\n",
       "gender               object\n",
       "SeniorCitizen         int64\n",
       "Partner              object\n",
       "Dependents           object\n",
       "tenure                int64\n",
       "PhoneService         object\n",
       "MultipleLines        object\n",
       "InternetService      object\n",
       "OnlineSecurity       object\n",
       "OnlineBackup         object\n",
       "DeviceProtection     object\n",
       "TechSupport          object\n",
       "StreamingTV          object\n",
       "StreamingMovies      object\n",
       "Contract             object\n",
       "PaperlessBilling     object\n",
       "PaymentMethod        object\n",
       "MonthlyCharges      float64\n",
       "TotalCharges         object\n",
       "Churn                object\n",
       "dtype: object"
      ]
     },
     "execution_count": 4,
     "metadata": {},
     "output_type": "execute_result"
    }
   ],
   "source": [
    "churn_df.dtypes"
   ]
  },
  {
   "cell_type": "code",
   "execution_count": 5,
   "metadata": {},
   "outputs": [],
   "source": [
    "# unifying naming conventions\n",
    "churn_df.columns = churn_df.columns.str.lower().str.replace(' ', '_')\n",
    "\n",
    "# update dtypes\n",
    "churn_df.churn = churn_df.churn.eq('Yes').mul(1)\n",
    "\n",
    "churn_df.totalcharges = pd.to_numeric(churn_df.totalcharges, errors='coerce')\n",
    "\n",
    "# identifying categorical columns\n",
    "cat_cols = churn_df.select_dtypes('object').columns[1:] # execluding customerid\n",
    "\n",
    "for col in cat_cols:\n",
    "    churn_df[col] = churn_df[col].str.lower().str.replace(' ', '_')"
   ]
  },
  {
   "cell_type": "code",
   "execution_count": 6,
   "metadata": {},
   "outputs": [
    {
     "data": {
      "text/plain": [
       "customerid           0\n",
       "gender               0\n",
       "seniorcitizen        0\n",
       "partner              0\n",
       "dependents           0\n",
       "tenure               0\n",
       "phoneservice         0\n",
       "multiplelines        0\n",
       "internetservice      0\n",
       "onlinesecurity       0\n",
       "onlinebackup         0\n",
       "deviceprotection     0\n",
       "techsupport          0\n",
       "streamingtv          0\n",
       "streamingmovies      0\n",
       "contract             0\n",
       "paperlessbilling     0\n",
       "paymentmethod        0\n",
       "monthlycharges       0\n",
       "totalcharges        11\n",
       "churn                0\n",
       "dtype: int64"
      ]
     },
     "execution_count": 6,
     "metadata": {},
     "output_type": "execute_result"
    }
   ],
   "source": [
    "# check for empty cells\n",
    "churn_df.isnull().sum()"
   ]
  },
  {
   "cell_type": "code",
   "execution_count": 7,
   "metadata": {},
   "outputs": [],
   "source": [
    "# fill empty cells\n",
    "churn_df.totalcharges = churn_df.totalcharges.fillna(0)"
   ]
  },
  {
   "cell_type": "code",
   "execution_count": 8,
   "metadata": {
    "scrolled": false
   },
   "outputs": [
    {
     "data": {
      "text/html": [
       "<div>\n",
       "<style scoped>\n",
       "    .dataframe tbody tr th:only-of-type {\n",
       "        vertical-align: middle;\n",
       "    }\n",
       "\n",
       "    .dataframe tbody tr th {\n",
       "        vertical-align: top;\n",
       "    }\n",
       "\n",
       "    .dataframe thead th {\n",
       "        text-align: right;\n",
       "    }\n",
       "</style>\n",
       "<table border=\"1\" class=\"dataframe\">\n",
       "  <thead>\n",
       "    <tr style=\"text-align: right;\">\n",
       "      <th></th>\n",
       "      <th>0</th>\n",
       "      <th>1</th>\n",
       "      <th>2</th>\n",
       "      <th>3</th>\n",
       "      <th>4</th>\n",
       "    </tr>\n",
       "  </thead>\n",
       "  <tbody>\n",
       "    <tr>\n",
       "      <th>customerid</th>\n",
       "      <td>7590-VHVEG</td>\n",
       "      <td>5575-GNVDE</td>\n",
       "      <td>3668-QPYBK</td>\n",
       "      <td>7795-CFOCW</td>\n",
       "      <td>9237-HQITU</td>\n",
       "    </tr>\n",
       "    <tr>\n",
       "      <th>gender</th>\n",
       "      <td>female</td>\n",
       "      <td>male</td>\n",
       "      <td>male</td>\n",
       "      <td>male</td>\n",
       "      <td>female</td>\n",
       "    </tr>\n",
       "    <tr>\n",
       "      <th>seniorcitizen</th>\n",
       "      <td>0</td>\n",
       "      <td>0</td>\n",
       "      <td>0</td>\n",
       "      <td>0</td>\n",
       "      <td>0</td>\n",
       "    </tr>\n",
       "    <tr>\n",
       "      <th>partner</th>\n",
       "      <td>yes</td>\n",
       "      <td>no</td>\n",
       "      <td>no</td>\n",
       "      <td>no</td>\n",
       "      <td>no</td>\n",
       "    </tr>\n",
       "    <tr>\n",
       "      <th>dependents</th>\n",
       "      <td>no</td>\n",
       "      <td>no</td>\n",
       "      <td>no</td>\n",
       "      <td>no</td>\n",
       "      <td>no</td>\n",
       "    </tr>\n",
       "    <tr>\n",
       "      <th>tenure</th>\n",
       "      <td>1</td>\n",
       "      <td>34</td>\n",
       "      <td>2</td>\n",
       "      <td>45</td>\n",
       "      <td>2</td>\n",
       "    </tr>\n",
       "    <tr>\n",
       "      <th>phoneservice</th>\n",
       "      <td>no</td>\n",
       "      <td>yes</td>\n",
       "      <td>yes</td>\n",
       "      <td>no</td>\n",
       "      <td>yes</td>\n",
       "    </tr>\n",
       "    <tr>\n",
       "      <th>multiplelines</th>\n",
       "      <td>no_phone_service</td>\n",
       "      <td>no</td>\n",
       "      <td>no</td>\n",
       "      <td>no_phone_service</td>\n",
       "      <td>no</td>\n",
       "    </tr>\n",
       "    <tr>\n",
       "      <th>internetservice</th>\n",
       "      <td>dsl</td>\n",
       "      <td>dsl</td>\n",
       "      <td>dsl</td>\n",
       "      <td>dsl</td>\n",
       "      <td>fiber_optic</td>\n",
       "    </tr>\n",
       "    <tr>\n",
       "      <th>onlinesecurity</th>\n",
       "      <td>no</td>\n",
       "      <td>yes</td>\n",
       "      <td>yes</td>\n",
       "      <td>yes</td>\n",
       "      <td>no</td>\n",
       "    </tr>\n",
       "    <tr>\n",
       "      <th>onlinebackup</th>\n",
       "      <td>yes</td>\n",
       "      <td>no</td>\n",
       "      <td>yes</td>\n",
       "      <td>no</td>\n",
       "      <td>no</td>\n",
       "    </tr>\n",
       "    <tr>\n",
       "      <th>deviceprotection</th>\n",
       "      <td>no</td>\n",
       "      <td>yes</td>\n",
       "      <td>no</td>\n",
       "      <td>yes</td>\n",
       "      <td>no</td>\n",
       "    </tr>\n",
       "    <tr>\n",
       "      <th>techsupport</th>\n",
       "      <td>no</td>\n",
       "      <td>no</td>\n",
       "      <td>no</td>\n",
       "      <td>yes</td>\n",
       "      <td>no</td>\n",
       "    </tr>\n",
       "    <tr>\n",
       "      <th>streamingtv</th>\n",
       "      <td>no</td>\n",
       "      <td>no</td>\n",
       "      <td>no</td>\n",
       "      <td>no</td>\n",
       "      <td>no</td>\n",
       "    </tr>\n",
       "    <tr>\n",
       "      <th>streamingmovies</th>\n",
       "      <td>no</td>\n",
       "      <td>no</td>\n",
       "      <td>no</td>\n",
       "      <td>no</td>\n",
       "      <td>no</td>\n",
       "    </tr>\n",
       "    <tr>\n",
       "      <th>contract</th>\n",
       "      <td>month-to-month</td>\n",
       "      <td>one_year</td>\n",
       "      <td>month-to-month</td>\n",
       "      <td>one_year</td>\n",
       "      <td>month-to-month</td>\n",
       "    </tr>\n",
       "    <tr>\n",
       "      <th>paperlessbilling</th>\n",
       "      <td>yes</td>\n",
       "      <td>no</td>\n",
       "      <td>yes</td>\n",
       "      <td>no</td>\n",
       "      <td>yes</td>\n",
       "    </tr>\n",
       "    <tr>\n",
       "      <th>paymentmethod</th>\n",
       "      <td>electronic_check</td>\n",
       "      <td>mailed_check</td>\n",
       "      <td>mailed_check</td>\n",
       "      <td>bank_transfer_(automatic)</td>\n",
       "      <td>electronic_check</td>\n",
       "    </tr>\n",
       "    <tr>\n",
       "      <th>monthlycharges</th>\n",
       "      <td>29.85</td>\n",
       "      <td>56.95</td>\n",
       "      <td>53.85</td>\n",
       "      <td>42.3</td>\n",
       "      <td>70.7</td>\n",
       "    </tr>\n",
       "    <tr>\n",
       "      <th>totalcharges</th>\n",
       "      <td>29.85</td>\n",
       "      <td>1889.5</td>\n",
       "      <td>108.15</td>\n",
       "      <td>1840.75</td>\n",
       "      <td>151.65</td>\n",
       "    </tr>\n",
       "    <tr>\n",
       "      <th>churn</th>\n",
       "      <td>0</td>\n",
       "      <td>0</td>\n",
       "      <td>1</td>\n",
       "      <td>0</td>\n",
       "      <td>1</td>\n",
       "    </tr>\n",
       "  </tbody>\n",
       "</table>\n",
       "</div>"
      ],
      "text/plain": [
       "                                 0             1               2  \\\n",
       "customerid              7590-VHVEG    5575-GNVDE      3668-QPYBK   \n",
       "gender                      female          male            male   \n",
       "seniorcitizen                    0             0               0   \n",
       "partner                        yes            no              no   \n",
       "dependents                      no            no              no   \n",
       "tenure                           1            34               2   \n",
       "phoneservice                    no           yes             yes   \n",
       "multiplelines     no_phone_service            no              no   \n",
       "internetservice                dsl           dsl             dsl   \n",
       "onlinesecurity                  no           yes             yes   \n",
       "onlinebackup                   yes            no             yes   \n",
       "deviceprotection                no           yes              no   \n",
       "techsupport                     no            no              no   \n",
       "streamingtv                     no            no              no   \n",
       "streamingmovies                 no            no              no   \n",
       "contract            month-to-month      one_year  month-to-month   \n",
       "paperlessbilling               yes            no             yes   \n",
       "paymentmethod     electronic_check  mailed_check    mailed_check   \n",
       "monthlycharges               29.85         56.95           53.85   \n",
       "totalcharges                 29.85        1889.5          108.15   \n",
       "churn                            0             0               1   \n",
       "\n",
       "                                          3                 4  \n",
       "customerid                       7795-CFOCW        9237-HQITU  \n",
       "gender                                 male            female  \n",
       "seniorcitizen                             0                 0  \n",
       "partner                                  no                no  \n",
       "dependents                               no                no  \n",
       "tenure                                   45                 2  \n",
       "phoneservice                             no               yes  \n",
       "multiplelines              no_phone_service                no  \n",
       "internetservice                         dsl       fiber_optic  \n",
       "onlinesecurity                          yes                no  \n",
       "onlinebackup                             no                no  \n",
       "deviceprotection                        yes                no  \n",
       "techsupport                             yes                no  \n",
       "streamingtv                              no                no  \n",
       "streamingmovies                          no                no  \n",
       "contract                           one_year    month-to-month  \n",
       "paperlessbilling                         no               yes  \n",
       "paymentmethod     bank_transfer_(automatic)  electronic_check  \n",
       "monthlycharges                         42.3              70.7  \n",
       "totalcharges                        1840.75            151.65  \n",
       "churn                                     0                 1  "
      ]
     },
     "execution_count": 8,
     "metadata": {},
     "output_type": "execute_result"
    }
   ],
   "source": [
    "churn_df.head().T"
   ]
  },
  {
   "cell_type": "code",
   "execution_count": 9,
   "metadata": {},
   "outputs": [
    {
     "data": {
      "text/plain": [
       "gender              2\n",
       "partner             2\n",
       "dependents          2\n",
       "phoneservice        2\n",
       "multiplelines       3\n",
       "internetservice     3\n",
       "onlinesecurity      3\n",
       "onlinebackup        3\n",
       "deviceprotection    3\n",
       "techsupport         3\n",
       "streamingtv         3\n",
       "streamingmovies     3\n",
       "contract            3\n",
       "paperlessbilling    2\n",
       "paymentmethod       4\n",
       "dtype: int64"
      ]
     },
     "execution_count": 9,
     "metadata": {},
     "output_type": "execute_result"
    }
   ],
   "source": [
    "# check cardinality of all cat features\n",
    "churn_df[cat_cols].nunique()"
   ]
  },
  {
   "cell_type": "code",
   "execution_count": 10,
   "metadata": {},
   "outputs": [
    {
     "data": {
      "text/plain": [
       "['electronic_check',\n",
       " 'mailed_check',\n",
       " 'bank_transfer_(automatic)',\n",
       " 'credit_card_(automatic)']"
      ]
     },
     "execution_count": 10,
     "metadata": {},
     "output_type": "execute_result"
    }
   ],
   "source": [
    "list(churn_df.paymentmethod.unique())"
   ]
  },
  {
   "cell_type": "markdown",
   "metadata": {},
   "source": [
    "Cardinality refers to the number of unique records (levels) in a given categorical feature. For example, *payment method* feature has 4 unique levels."
   ]
  },
  {
   "cell_type": "code",
   "execution_count": 11,
   "metadata": {},
   "outputs": [
    {
     "data": {
      "text/plain": [
       "0    0.73\n",
       "1    0.27\n",
       "Name: churn, dtype: float64"
      ]
     },
     "execution_count": 11,
     "metadata": {},
     "output_type": "execute_result"
    }
   ],
   "source": [
    "# check distribution of target variable\n",
    "churn_df.churn.value_counts(normalize=True).round(2)"
   ]
  },
  {
   "cell_type": "code",
   "execution_count": 12,
   "metadata": {},
   "outputs": [
    {
     "data": {
      "text/plain": [
       "0.27"
      ]
     },
     "execution_count": 12,
     "metadata": {},
     "output_type": "execute_result"
    }
   ],
   "source": [
    "# churn priori\n",
    "priori = churn_df.churn.mean().round(2)\n",
    "\n",
    "priori"
   ]
  },
  {
   "cell_type": "markdown",
   "metadata": {},
   "source": [
    "This is an imbalanced classification problem as there are fewer number of positive observations (churn) compared to negative ones, which means that:\n",
    "\n",
    "- Cross validation framework need to consider class imbalance\n",
    "- Some evaluation metrics may be misleading"
   ]
  },
  {
   "cell_type": "code",
   "execution_count": 13,
   "metadata": {},
   "outputs": [],
   "source": [
    "# establishing validation framework\n",
    "\n",
    "feats = churn_df.drop(['customerid', 'churn'], axis = 1)\n",
    "labels = churn_df.churn\n",
    "\n",
    "x_train, x_test, y_train, y_test = train_test_split(feats, labels, stratify = labels, test_size = 0.2, random_state = 1)"
   ]
  },
  {
   "cell_type": "markdown",
   "metadata": {},
   "source": [
    "Using stratified sampling ensures that train and test sets have equal number of positive observations."
   ]
  },
  {
   "cell_type": "code",
   "execution_count": 14,
   "metadata": {},
   "outputs": [
    {
     "data": {
      "text/plain": [
       "0    0.73\n",
       "1    0.27\n",
       "Name: churn, dtype: float64"
      ]
     },
     "metadata": {},
     "output_type": "display_data"
    },
    {
     "data": {
      "text/plain": [
       "0    0.73\n",
       "1    0.27\n",
       "Name: churn, dtype: float64"
      ]
     },
     "metadata": {},
     "output_type": "display_data"
    }
   ],
   "source": [
    "# Distribution of positive observations in both sets\n",
    "display(y_train.value_counts(normalize=True).round(2), y_test.value_counts(normalize=True).round(2))"
   ]
  },
  {
   "cell_type": "markdown",
   "metadata": {},
   "source": [
    "**<a href=\"#Toc\" style='color:#00ffff'>Table of contents</a>**"
   ]
  },
  {
   "cell_type": "markdown",
   "metadata": {},
   "source": [
    "<a id='one'></a>"
   ]
  },
  {
   "cell_type": "markdown",
   "metadata": {},
   "source": [
    "### One-hot encoding\n",
    "\n",
    "Assigning numeric representations for categorical features (i.e. 1 for 'yes' and 0 'no')."
   ]
  },
  {
   "cell_type": "code",
   "execution_count": 15,
   "metadata": {
    "scrolled": false
   },
   "outputs": [],
   "source": [
    "# save rows as dict to feed dict vectorizer\n",
    "tr_dict = x_train[feats.columns].to_dict(orient='records')\n",
    "ts_dict = x_test[feats.columns].to_dict(orient='records')"
   ]
  },
  {
   "cell_type": "code",
   "execution_count": 16,
   "metadata": {},
   "outputs": [
    {
     "data": {
      "text/plain": [
       "{'gender': 'female',\n",
       " 'seniorcitizen': 0,\n",
       " 'partner': 'yes',\n",
       " 'dependents': 'yes',\n",
       " 'tenure': 1,\n",
       " 'phoneservice': 'yes',\n",
       " 'multiplelines': 'yes',\n",
       " 'internetservice': 'fiber_optic',\n",
       " 'onlinesecurity': 'yes',\n",
       " 'onlinebackup': 'no',\n",
       " 'deviceprotection': 'yes',\n",
       " 'techsupport': 'no',\n",
       " 'streamingtv': 'yes',\n",
       " 'streamingmovies': 'yes',\n",
       " 'contract': 'month-to-month',\n",
       " 'paperlessbilling': 'yes',\n",
       " 'paymentmethod': 'electronic_check',\n",
       " 'monthlycharges': 102.45,\n",
       " 'totalcharges': 102.45}"
      ]
     },
     "execution_count": 16,
     "metadata": {},
     "output_type": "execute_result"
    }
   ],
   "source": [
    "# each row is now a dict record\n",
    "tr_dict[0]"
   ]
  },
  {
   "cell_type": "code",
   "execution_count": 17,
   "metadata": {},
   "outputs": [],
   "source": [
    "# sparse false to return a vector of 0 and 1\n",
    "dv = DictVectorizer(sparse=False)\n",
    "\n",
    "# Transform\n",
    "x_train = dv.fit_transform(tr_dict)\n",
    "x_test = dv.transform(ts_dict)"
   ]
  },
  {
   "cell_type": "code",
   "execution_count": 18,
   "metadata": {},
   "outputs": [
    {
     "name": "stdout",
     "output_type": "stream",
     "text": [
      "feature vector: [1.0, 0.0, 0.0, 0.0, 1.0, 0.0, 0.0, 1.0, 1.0, 0.0, 0.0, 1.0, 0.0, 102.45, 0.0, 0.0, 1.0, 1.0, 0.0, 0.0, 0.0, 0.0, 1.0, 0.0, 1.0, 0.0, 1.0, 0.0, 0.0, 1.0, 0.0, 0.0, 1.0, 0.0, 0.0, 0.0, 1.0, 0.0, 0.0, 1.0, 1.0, 0.0, 0.0, 1.0, 102.45]\n",
      "----------------------------------------\n",
      "n-cols OHE: 45\n",
      "----------------------------------------\n",
      "n-cols original: 21\n"
     ]
    }
   ],
   "source": [
    "# feature vector and shape after OHE\n",
    "print('feature vector: ',list(x_train[0]), '\\n', '-'*40, '\\n', 'n-cols OHE: ', x_train.shape[1], '\\n', '-'*40, '\\n', \n",
    "      'n-cols original: ', churn_df.shape[1], sep='')"
   ]
  },
  {
   "cell_type": "code",
   "execution_count": 19,
   "metadata": {},
   "outputs": [
    {
     "name": "stdout",
     "output_type": "stream",
     "text": [
      "['contract=month-to-month', 'contract=one_year', 'contract=two_year', 'dependents=no', 'dependents=yes', 'deviceprotection=no', 'deviceprotection=no_internet_service', 'deviceprotection=yes', 'gender=female', 'gender=male', 'internetservice=dsl', 'internetservice=fiber_optic', 'internetservice=no', 'monthlycharges', 'multiplelines=no', 'multiplelines=no_phone_service', 'multiplelines=yes', 'onlinebackup=no', 'onlinebackup=no_internet_service', 'onlinebackup=yes', 'onlinesecurity=no', 'onlinesecurity=no_internet_service', 'onlinesecurity=yes', 'paperlessbilling=no', 'paperlessbilling=yes', 'partner=no', 'partner=yes', 'paymentmethod=bank_transfer_(automatic)', 'paymentmethod=credit_card_(automatic)', 'paymentmethod=electronic_check', 'paymentmethod=mailed_check', 'phoneservice=no', 'phoneservice=yes', 'seniorcitizen', 'streamingmovies=no', 'streamingmovies=no_internet_service', 'streamingmovies=yes', 'streamingtv=no', 'streamingtv=no_internet_service', 'streamingtv=yes', 'techsupport=no', 'techsupport=no_internet_service', 'techsupport=yes', 'tenure', 'totalcharges']\n"
     ]
    }
   ],
   "source": [
    "# feature names\n",
    "print(dv.get_feature_names(),)"
   ]
  },
  {
   "cell_type": "markdown",
   "metadata": {},
   "source": [
    "Each level (i.e.: gender: male/female) is now separated into several features depending on number of unique records. Note that we did not drop one level (similar to 'drop_first' in get_dummies) because we'll use logistic regression model and coefficients will be canceled when features are absent."
   ]
  },
  {
   "cell_type": "markdown",
   "metadata": {},
   "source": [
    "**<a href=\"#Toc\" style='color:#00ffff'>Table of contents</a>**"
   ]
  },
  {
   "cell_type": "markdown",
   "metadata": {},
   "source": [
    "<a id='tra'></a>"
   ]
  },
  {
   "cell_type": "markdown",
   "metadata": {},
   "source": [
    "### Train model"
   ]
  },
  {
   "cell_type": "code",
   "execution_count": 20,
   "metadata": {},
   "outputs": [
    {
     "data": {
      "text/plain": [
       "LogisticRegression(random_state=1)"
      ]
     },
     "execution_count": 20,
     "metadata": {},
     "output_type": "execute_result"
    }
   ],
   "source": [
    "# learn from data\n",
    "model = LogisticRegression(random_state = 1)\n",
    "model.fit(x_train, y_train)"
   ]
  },
  {
   "cell_type": "code",
   "execution_count": 21,
   "metadata": {},
   "outputs": [
    {
     "data": {
      "text/plain": [
       "array([0.24, 0.5 , 0.32, ..., 0.51, 0.02, 0.14])"
      ]
     },
     "execution_count": 21,
     "metadata": {},
     "output_type": "execute_result"
    }
   ],
   "source": [
    "# generate probabilistic predictions\n",
    "y_pred = model.predict_proba(x_test)[:, 1]\n",
    "y_pred.round(2)"
   ]
  },
  {
   "cell_type": "markdown",
   "metadata": {},
   "source": [
    "**<a href=\"#Toc\" style='color:#00ffff'>Table of contents</a>**"
   ]
  },
  {
   "cell_type": "markdown",
   "metadata": {},
   "source": [
    "<a id='acc'></a>"
   ]
  },
  {
   "cell_type": "markdown",
   "metadata": {},
   "source": [
    "### Metrics \n",
    "\n",
    "#### Accuracy\n",
    "\n",
    "Accuracy measures portion of correct predictions, existence of class imbalance reduce the credibility of this metrics."
   ]
  },
  {
   "cell_type": "code",
   "execution_count": 22,
   "metadata": {
    "scrolled": true
   },
   "outputs": [
    {
     "data": {
      "text/plain": [
       "0.81"
      ]
     },
     "execution_count": 22,
     "metadata": {},
     "output_type": "execute_result"
    }
   ],
   "source": [
    "# accuracy score using default classification threshold (0.5)\n",
    "(y_test == (y_pred >= 0.5)).mean().round(2)"
   ]
  },
  {
   "cell_type": "code",
   "execution_count": 23,
   "metadata": {},
   "outputs": [
    {
     "data": {
      "text/plain": [
       "0.81"
      ]
     },
     "execution_count": 23,
     "metadata": {},
     "output_type": "execute_result"
    }
   ],
   "source": [
    "# accuracy score sklean\n",
    "accuracy_score(y_test, y_pred >= 0.5).round(2)"
   ]
  },
  {
   "cell_type": "code",
   "execution_count": 24,
   "metadata": {},
   "outputs": [
    {
     "data": {
      "text/plain": [
       "array([0.        , 0.05263158, 0.10526316, 0.15789474, 0.21052632,\n",
       "       0.26315789, 0.31578947, 0.36842105, 0.42105263, 0.47368421,\n",
       "       0.52631579, 0.57894737, 0.63157895, 0.68421053, 0.73684211,\n",
       "       0.78947368, 0.84210526, 0.89473684, 0.94736842, 1.        ])"
      ]
     },
     "execution_count": 24,
     "metadata": {},
     "output_type": "execute_result"
    }
   ],
   "source": [
    "# instantiating classification thresholds\n",
    "t = np.linspace(0, 1, 20)\n",
    "t"
   ]
  },
  {
   "cell_type": "code",
   "execution_count": 25,
   "metadata": {},
   "outputs": [
    {
     "name": "stdout",
     "output_type": "stream",
     "text": [
      "Threshold:  0.0 --> Accuracy:  0.27\n",
      "Threshold:  0.05 --> Accuracy:  0.51\n",
      "Threshold:  0.11 --> Accuracy:  0.61\n",
      "Threshold:  0.16 --> Accuracy:  0.67\n",
      "Threshold:  0.21 --> Accuracy:  0.71\n",
      "Threshold:  0.26 --> Accuracy:  0.74\n",
      "Threshold:  0.32 --> Accuracy:  0.77\n",
      "Threshold:  0.37 --> Accuracy:  0.78\n",
      "Threshold:  0.42 --> Accuracy:  0.8\n",
      "Threshold:  0.47 --> Accuracy:  0.81\n",
      "Threshold:  0.53 --> Accuracy:  0.81\n",
      "Threshold:  0.58 --> Accuracy:  0.8\n",
      "Threshold:  0.63 --> Accuracy:  0.79\n",
      "Threshold:  0.68 --> Accuracy:  0.78\n",
      "Threshold:  0.74 --> Accuracy:  0.77\n",
      "Threshold:  0.79 --> Accuracy:  0.75\n",
      "Threshold:  0.84 --> Accuracy:  0.74\n",
      "Threshold:  0.89 --> Accuracy:  0.73\n",
      "Threshold:  0.95 --> Accuracy:  0.73\n",
      "Threshold:  1.0 --> Accuracy:  0.73\n"
     ]
    }
   ],
   "source": [
    "# threshold moving\n",
    "\n",
    "accuracy = []\n",
    "\n",
    "for _ in t:\n",
    "    acc = accuracy_score(y_test, y_pred >= _)\n",
    "    accuracy.append(acc)\n",
    "    print('Threshold: ', _.round(2), '--> Accuracy: ', acc.round(2))"
   ]
  },
  {
   "cell_type": "code",
   "execution_count": 26,
   "metadata": {},
   "outputs": [
    {
     "data": {
      "image/png": "[encoded data removed]",
      "text/plain": [
       "<Figure size 432x288 with 1 Axes>"
      ]
     },
     "metadata": {
      "needs_background": "light"
     },
     "output_type": "display_data"
    }
   ],
   "source": [
    "# visualizing accuracy score at different classification thresholds\n",
    "\n",
    "plt.figure(figsize=(6, 4))\n",
    "\n",
    "# plot\n",
    "plt.plot(t, accuracy, color='orange')\n",
    "\n",
    "# decorate\n",
    "plt.xlabel('Threshold')\n",
    "plt.ylabel('Accuracy')\n",
    "plt.gca().spines[['top', 'right']].set_visible(False);"
   ]
  },
  {
   "cell_type": "code",
   "execution_count": 27,
   "metadata": {},
   "outputs": [
    {
     "name": "stdout",
     "output_type": "stream",
     "text": [
      "Positive observations: 0.73\n",
      "Negative observations: 0.27\n"
     ]
    }
   ],
   "source": [
    "# class distribution\n",
    "print('Positive observations: ', 1 - y_test.mean().round(2), '\\n','Negative observations: ', y_test.mean().round(2), sep='')"
   ]
  },
  {
   "cell_type": "markdown",
   "metadata": {},
   "source": [
    "**<a href=\"#Toc\" style='color:#00ffff'>Table of contents</a>**"
   ]
  },
  {
   "cell_type": "markdown",
   "metadata": {},
   "source": [
    "<a id='thr'></a>"
   ]
  },
  {
   "cell_type": "markdown",
   "metadata": {},
   "source": [
    "#### Threshold Moving\n",
    "\n",
    "Addressing class imbalance issue in a simple and straight forward way can be done by Threshold Moving. Threshold, referred to as *t* from now on, is a decision boundary; some classifiers are capable of generating probabilistic predictions for class membership rather than pure labels (negative 0 , positive 1), *t* is then used to map these probabilistic predictions to a corresponding class label. Default *t* is 0.5 which means that observations having prediction probabilities >= 0.5 are classified as being a positive class; default *t* is not always the optimal classification decision and we can control this by threshold moving.\n",
    "\n",
    "Threshold moving is simply changing the default *t* to whatever works best for our problem. We've selected 20 thresholds and calculated accuracy score at each, noting following:\n",
    "\n",
    "- Accuracy scores at *t* 0 and 1 are exactly the same as class distribution, because *t* = 0 means that we classify all observations as positive class which represent only limited portion (27%) of all observations, thus, accuracy will be equal to the size of these observations and vice versa.\n",
    "\n",
    "- Default classification threshold is indeed the one that maximizes our metric (accuracy score), however, this does not always hold true.\n",
    "\n",
    "As we learn about other metrics we will explore further how to fully utilize *t* moving in making an informed classification decision."
   ]
  },
  {
   "cell_type": "markdown",
   "metadata": {},
   "source": [
    "**<a href=\"#Toc\" style='color:#00ffff'>Table of contents</a>**"
   ]
  },
  {
   "cell_type": "markdown",
   "metadata": {},
   "source": [
    "<a id='con'></a>"
   ]
  },
  {
   "cell_type": "markdown",
   "metadata": {},
   "source": [
    "#### Confusion Matrix\n",
    "\n",
    "Before discussing confusion matrix (CM) let's first understand the underlying components, when comparing actual vs predicted results a single observation falls under one of the following 4 categories:\n",
    "\n",
    "- True positive (TP): actual observation belongs to the positive class (1) and is correctly predicted as being positive.\n",
    "- False positive (FP): actual observation belongs to the negative class (0) and is wrongly predicted as being positive.\n",
    "- True negative (TN): actual observation belongs to the negative class (0) and is correctly predicted as being negative.\n",
    "- False negative (FN): actual observation belongs to the positive class (1) and is wrongly predicted as being negative.\n",
    "\n",
    "If we think of binary classification problem in terms of hypothesis testing (although they are both different), we can consider that false positive and false negative categories are Type I and Type II errors respectively, in hypothesis testing terms these errors means the following:\n",
    "\n",
    "- Type I error: rejecting null hypothesis (accepting alternative instead of null) that is actually true (giving positive affirmation to reject null).\n",
    "- Type II error: failing to reject null hypothesis (accepting null instead of alternative) that is actually false.\n",
    "\n",
    "Confusion matrix does a pretty good job clearing any 'confusion' that the above might have caused. It displays the results of the 4 categories as shown in the below table.\n",
    "\n",
    "\n",
    "| Actual/Pred |        No         |        Yes      |\n",
    "|-------------|-------------------|-----------------|\n",
    "|  No         | 'True Negative'   | 'False Positive'|\n",
    "|  Yes        | 'False Negative'  | 'True Positive' |\n",
    "\n",
    "Note that not all confusion matrices display results in same order, we are using the same order as in scikit-learn's confusion matrix where columns represent predictions and rows are actuals.\n",
    "\n",
    "I personally find confusion matrix to be revealing, it's a must have assessment tool beside any other chosen metric."
   ]
  },
  {
   "cell_type": "code",
   "execution_count": 28,
   "metadata": {
    "scrolled": false
   },
   "outputs": [
    {
     "data": {
      "image/png": "[encoded data removed]",
      "text/plain": [
       "<Figure size 432x288 with 1 Axes>"
      ]
     },
     "metadata": {
      "needs_background": "light"
     },
     "output_type": "display_data"
    }
   ],
   "source": [
    "# CM\n",
    "\n",
    "# predictions as pure class labels to feed CM\n",
    "y_pred_class = model.predict(x_test)\n",
    "\n",
    "cm = confusion_matrix(y_test, y_pred_class)\n",
    "sns.heatmap(cm, square=True, annot=True, fmt='g', cbar=False)\n",
    "plt.xlabel('predicted value')\n",
    "plt.ylabel('true value');"
   ]
  },
  {
   "cell_type": "code",
   "execution_count": 29,
   "metadata": {},
   "outputs": [
    {
     "name": "stdout",
     "output_type": "stream",
     "text": [
      "True Negative: 935\n",
      "----------------------------------------\n",
      "False Positive: 100\n",
      "----------------------------------------\n",
      "False Negative: 172\n",
      "----------------------------------------\n",
      "True Positive: 202\n"
     ]
    }
   ],
   "source": [
    "# capturing values\n",
    "tn, fp, fn, tp = confusion_matrix(y_test, y_pred_class).ravel()\n",
    "\n",
    "print('True Negative: ', tn, '\\n', '-' * 40, '\\n', 'False Positive: ', fp, '\\n', '-' * 40, '\\n',  \n",
    "      'False Negative: ', fn, '\\n', '-' * 40, '\\n', 'True Positive: ', tp, sep='')"
   ]
  },
  {
   "cell_type": "code",
   "execution_count": 30,
   "metadata": {},
   "outputs": [
    {
     "data": {
      "text/plain": [
       "0    1035\n",
       "1     374\n",
       "Name: churn, dtype: int64"
      ]
     },
     "execution_count": 30,
     "metadata": {},
     "output_type": "execute_result"
    }
   ],
   "source": [
    "# class distribution in test set\n",
    "y_test.value_counts()"
   ]
  },
  {
   "cell_type": "markdown",
   "metadata": {},
   "source": [
    "What do these numbers tell us?\n",
    "\n",
    "- 202 out of 374 positive observations are correctly predicted as being positive (TP), while 172 are wrongly predicted as being negative (FN) \n",
    "\n",
    "- 935 out of 1035 negative observations are correctly predicted as being negative (TN), while 100 wrongly predicted as being  positive (FP) \n",
    "\n",
    "We can also calculate Accuracy score from CM as follows:\n",
    "- Correct predictions / all predictions = (TP + TN) / (TP + FN + FP + TP) = (935 + 202) / (935 + 172 + 100 + 202) = .81"
   ]
  },
  {
   "cell_type": "markdown",
   "metadata": {},
   "source": [
    "**<a href=\"#Toc\" style='color:#00ffff'>Table of contents</a>**"
   ]
  },
  {
   "cell_type": "markdown",
   "metadata": {},
   "source": [
    "<a id='prec'></a>"
   ]
  },
  {
   "cell_type": "markdown",
   "metadata": {},
   "source": [
    "#### Precision and recall\n",
    "\n",
    "We can extract other meaningful metrics from confusion matrix such as precision and recall. Precision answers 'how many positive predictions (pred = 1) are correct?' and recall answers to 'Of all positive observations (churn = 1) how many did we predict correctly?', the former measures how likely our predictions to be correct while the latter measures the completeness of our predictions."
   ]
  },
  {
   "cell_type": "code",
   "execution_count": 31,
   "metadata": {},
   "outputs": [
    {
     "name": "stdout",
     "output_type": "stream",
     "text": [
      "Precision: 0.67\n",
      "Recall: 0.54\n"
     ]
    }
   ],
   "source": [
    "# precision and recall\n",
    "\n",
    "pr = tp / (tp + fp)\n",
    "rec = tp / (tp + fn)\n",
    "\n",
    "print('Precision: ', pr.round(2), '\\n','Recall: ', rec.round(2), sep = '')"
   ]
  },
  {
   "cell_type": "code",
   "execution_count": 32,
   "metadata": {},
   "outputs": [
    {
     "name": "stdout",
     "output_type": "stream",
     "text": [
      "Precision: 0.67\n",
      "Recall: 0.54\n"
     ]
    }
   ],
   "source": [
    "# precision and recall from CM\n",
    "\n",
    "recall = confusion_matrix(y_test, y_pred_class, normalize = 'true').ravel()\n",
    "\n",
    "precision = confusion_matrix(y_test, y_pred_class, normalize = 'pred').ravel()\n",
    "\n",
    "print('Precision: ', precision[-1].round(2), '\\n','Recall: ', recall[-1].round(2), sep = '')"
   ]
  },
  {
   "cell_type": "code",
   "execution_count": 33,
   "metadata": {},
   "outputs": [
    {
     "name": "stdout",
     "output_type": "stream",
     "text": [
      "----------------------------------------\n",
      "Classification Report\n",
      "----------------------------------------\n",
      "              precision    recall  f1-score   support\n",
      "\n",
      "           0       0.84      0.90      0.87      1035\n",
      "           1       0.67      0.54      0.60       374\n",
      "\n",
      "    accuracy                           0.81      1409\n",
      "   macro avg       0.76      0.72      0.74      1409\n",
      "weighted avg       0.80      0.81      0.80      1409\n",
      "----------------------------------------\n",
      "Confusion Matrix\n",
      "----------------------------------------\n",
      "[[935 100]\n",
      " [172 202]]\n"
     ]
    }
   ],
   "source": [
    "# Classification report and CM\n",
    "\n",
    "print('-' * 40, '\\n', 'Classification Report','\\n', '-' * 40, '\\n', classification_report(y_test, y_pred_class), \n",
    "      '-' * 40, '\\n', 'Confusion Matrix','\\n', '-' * 40, '\\n', confusion_matrix(y_test, y_pred_class), sep = '')"
   ]
  },
  {
   "cell_type": "markdown",
   "metadata": {},
   "source": [
    "Now we need to pause and make sense of all this. We started out with a very promising accuracy score of 81%, and ended up with poor recall score of 54%; what happened in between?\n",
    "\n",
    "Accuracy is a misleading performance metric in imbalanced classification problems, simply because negative observations shadow the calculation due to their abundance. On the other hand, precision and recall portrays a much clearer picture of classifier performance; we can observe that only 54% of positive observations were captured by our model this means that we missed on 46% of our churning customers, pretty significant if we actually wanted to retain these customers!\n",
    "\n",
    "There will always be a tradeoff between precision and recall metrics, whether to strike a balance between both or maximize one at the expense of the other is what threshold moving and cost matrix can help with. This will be the closing topic of our discussion. \n",
    "\n",
    "Notes:\n",
    "- We often ignore precision and recall calculation for negative class, rather focus on calculations related to the positive class because this is the class we are actually interested in."
   ]
  },
  {
   "cell_type": "markdown",
   "metadata": {},
   "source": [
    "**<a href=\"#Toc\" style='color:#00ffff'>Table of contents</a>**"
   ]
  },
  {
   "cell_type": "markdown",
   "metadata": {},
   "source": [
    "<a id='roc'></a>"
   ]
  },
  {
   "cell_type": "markdown",
   "metadata": {},
   "source": [
    "#### ROC and AUC\n",
    "\n",
    "Receiver operating characteristic curve (ROC curve) is a graphical depiction of model's discriminatory power at different classification thresholds; Area under the curve (AUC) is, well, the area under ROC curve! Think of the area as a single measurement of model's discriminatory power based on model's ability to weight positive observations higher than negative ones when making predictions, hold on to this thought for now it will eventually make sense!    \n",
    "\n",
    "Let's start with how to build an ROC curve? We need to calculate the following at each classification threshold:\n",
    "\n",
    "- True positive rate (TPr) = Sensitivity = Recall = TP / (TP + FN)\n",
    "- False positive rate (FPr) = FP / (FP + TN)\n",
    "\n",
    "Notes:\n",
    "\n",
    "- TPr focus on (churn = 1), second row of CM. ---> *Of all Positive observations how many are predicted correctly?*\n",
    "- FPr focus on (churn = 0), first row of CM. ---> *Of all Negative observations how many are predicted incorrectly?*\n",
    "- TPr is Recall, sometimes referred to as Sensitivity.\n",
    "- ROC is not effective in case of class imbalance because FPr is shadowed by TN value given the fact that there are way more negative observations than positive ones; Precision-Recall curve is better when imbalance exists."
   ]
  },
  {
   "cell_type": "markdown",
   "metadata": {},
   "source": [
    "**<a href=\"#Toc\" style='color:#00ffff'>Table of contents</a>**"
   ]
  },
  {
   "cell_type": "markdown",
   "metadata": {},
   "source": [
    "<a id='roc_c'></a>"
   ]
  },
  {
   "cell_type": "markdown",
   "metadata": {},
   "source": [
    "##### ROC curve"
   ]
  },
  {
   "cell_type": "code",
   "execution_count": 34,
   "metadata": {},
   "outputs": [
    {
     "data": {
      "text/html": [
       "<div>\n",
       "<style scoped>\n",
       "    .dataframe tbody tr th:only-of-type {\n",
       "        vertical-align: middle;\n",
       "    }\n",
       "\n",
       "    .dataframe tbody tr th {\n",
       "        vertical-align: top;\n",
       "    }\n",
       "\n",
       "    .dataframe thead th {\n",
       "        text-align: right;\n",
       "    }\n",
       "</style>\n",
       "<table border=\"1\" class=\"dataframe\">\n",
       "  <thead>\n",
       "    <tr style=\"text-align: right;\">\n",
       "      <th></th>\n",
       "      <th>threshold</th>\n",
       "      <th>tp</th>\n",
       "      <th>tn</th>\n",
       "      <th>fn</th>\n",
       "      <th>fp</th>\n",
       "      <th>tpr</th>\n",
       "      <th>fpr</th>\n",
       "    </tr>\n",
       "  </thead>\n",
       "  <tbody>\n",
       "    <tr>\n",
       "      <th>0</th>\n",
       "      <td>0.0</td>\n",
       "      <td>374</td>\n",
       "      <td>0</td>\n",
       "      <td>0</td>\n",
       "      <td>1035</td>\n",
       "      <td>1.000</td>\n",
       "      <td>1.000</td>\n",
       "    </tr>\n",
       "    <tr>\n",
       "      <th>10</th>\n",
       "      <td>0.1</td>\n",
       "      <td>344</td>\n",
       "      <td>495</td>\n",
       "      <td>30</td>\n",
       "      <td>540</td>\n",
       "      <td>0.920</td>\n",
       "      <td>0.522</td>\n",
       "    </tr>\n",
       "    <tr>\n",
       "      <th>20</th>\n",
       "      <td>0.2</td>\n",
       "      <td>311</td>\n",
       "      <td>685</td>\n",
       "      <td>63</td>\n",
       "      <td>350</td>\n",
       "      <td>0.832</td>\n",
       "      <td>0.338</td>\n",
       "    </tr>\n",
       "    <tr>\n",
       "      <th>30</th>\n",
       "      <td>0.3</td>\n",
       "      <td>277</td>\n",
       "      <td>794</td>\n",
       "      <td>97</td>\n",
       "      <td>241</td>\n",
       "      <td>0.741</td>\n",
       "      <td>0.233</td>\n",
       "    </tr>\n",
       "    <tr>\n",
       "      <th>40</th>\n",
       "      <td>0.4</td>\n",
       "      <td>242</td>\n",
       "      <td>870</td>\n",
       "      <td>132</td>\n",
       "      <td>165</td>\n",
       "      <td>0.647</td>\n",
       "      <td>0.159</td>\n",
       "    </tr>\n",
       "    <tr>\n",
       "      <th>50</th>\n",
       "      <td>0.5</td>\n",
       "      <td>202</td>\n",
       "      <td>935</td>\n",
       "      <td>172</td>\n",
       "      <td>100</td>\n",
       "      <td>0.540</td>\n",
       "      <td>0.097</td>\n",
       "    </tr>\n",
       "    <tr>\n",
       "      <th>60</th>\n",
       "      <td>0.6</td>\n",
       "      <td>150</td>\n",
       "      <td>978</td>\n",
       "      <td>224</td>\n",
       "      <td>57</td>\n",
       "      <td>0.401</td>\n",
       "      <td>0.055</td>\n",
       "    </tr>\n",
       "    <tr>\n",
       "      <th>70</th>\n",
       "      <td>0.7</td>\n",
       "      <td>77</td>\n",
       "      <td>1013</td>\n",
       "      <td>297</td>\n",
       "      <td>22</td>\n",
       "      <td>0.206</td>\n",
       "      <td>0.021</td>\n",
       "    </tr>\n",
       "    <tr>\n",
       "      <th>80</th>\n",
       "      <td>0.8</td>\n",
       "      <td>18</td>\n",
       "      <td>1033</td>\n",
       "      <td>356</td>\n",
       "      <td>2</td>\n",
       "      <td>0.048</td>\n",
       "      <td>0.002</td>\n",
       "    </tr>\n",
       "    <tr>\n",
       "      <th>90</th>\n",
       "      <td>0.9</td>\n",
       "      <td>0</td>\n",
       "      <td>1035</td>\n",
       "      <td>374</td>\n",
       "      <td>0</td>\n",
       "      <td>0.000</td>\n",
       "      <td>0.000</td>\n",
       "    </tr>\n",
       "    <tr>\n",
       "      <th>100</th>\n",
       "      <td>1.0</td>\n",
       "      <td>0</td>\n",
       "      <td>1035</td>\n",
       "      <td>374</td>\n",
       "      <td>0</td>\n",
       "      <td>0.000</td>\n",
       "      <td>0.000</td>\n",
       "    </tr>\n",
       "  </tbody>\n",
       "</table>\n",
       "</div>"
      ],
      "text/plain": [
       "     threshold   tp    tn   fn    fp    tpr    fpr\n",
       "0          0.0  374     0    0  1035  1.000  1.000\n",
       "10         0.1  344   495   30   540  0.920  0.522\n",
       "20         0.2  311   685   63   350  0.832  0.338\n",
       "30         0.3  277   794   97   241  0.741  0.233\n",
       "40         0.4  242   870  132   165  0.647  0.159\n",
       "50         0.5  202   935  172   100  0.540  0.097\n",
       "60         0.6  150   978  224    57  0.401  0.055\n",
       "70         0.7   77  1013  297    22  0.206  0.021\n",
       "80         0.8   18  1033  356     2  0.048  0.002\n",
       "90         0.9    0  1035  374     0  0.000  0.000\n",
       "100        1.0    0  1035  374     0  0.000  0.000"
      ]
     },
     "execution_count": 34,
     "metadata": {},
     "output_type": "execute_result"
    }
   ],
   "source": [
    "# Building ROC curve\n",
    "\n",
    "def rates_df(y_test, y_pred, t):\n",
    "    \"\"\" calculate CM, TPr and FPr at different classification thresholds \"\"\"\n",
    "\n",
    "    rates = [] # TPr and FPr\n",
    "\n",
    "    for _ in t:\n",
    "        # assigning class label above given threshold\n",
    "        y_pred_c = (y_pred >= _).astype(int)\n",
    "        tn, fp, fn, tp = confusion_matrix(y_test, y_pred_c).ravel()\n",
    "        tpr = tp / (tp + fn)\n",
    "        fpr = fp / (fp + tn)\n",
    "        rates.append((_, tp, tn, fn, fp, tpr, fpr))\n",
    "\n",
    "    # rates dataframe\n",
    "    df = pd.DataFrame(rates, columns = ['threshold', 'tp', 'tn', 'fn', 'fp', 'tpr', 'fpr'])\n",
    "    \n",
    "    return df\n",
    "\n",
    "# basic model \n",
    "\n",
    "t = np.linspace(0, 1, 101) # thresholds\n",
    "\n",
    "rates_df_bsc = rates_df(y_test, y_pred, t)\n",
    "\n",
    "rates_df_bsc[::10].round(3)"
   ]
  },
  {
   "cell_type": "markdown",
   "metadata": {},
   "source": [
    "We've calculated confusion matrix, TPr and FPr at different classification thresholds. Few observations can be noted:\n",
    "- Our earlier confusion matrix is at index 50, where recall = TPr.\n",
    "- Both TPr and FPr tend to decline when increasing classification threshold, but each decline has a different meaning. At threshold 0 we classify everything as churn successfully capturing all positive examples and missing on all negative ones, so a 100% TPr is a positive indication while 100% FPr is a negative one."
   ]
  },
  {
   "cell_type": "code",
   "execution_count": 35,
   "metadata": {},
   "outputs": [
    {
     "data": {
      "image/png": "[encoded data removed]",
      "text/plain": [
       "<Figure size 432x288 with 1 Axes>"
      ]
     },
     "metadata": {
      "needs_background": "light"
     },
     "output_type": "display_data"
    }
   ],
   "source": [
    "# visualize ROC curve\n",
    "\n",
    "def roc_c(t, tpr, fpr):\n",
    "    plt.figure(figsize=(6, 4))\n",
    "    \n",
    "    # plot\n",
    "    plt.plot(t, tpr, color='orange', linestyle='solid', label='TPR')\n",
    "    plt.plot(t, fpr, color='cyan', linestyle='dashed', label='FPR')\n",
    "\n",
    "    #decorate\n",
    "    plt.legend()\n",
    "    plt.xticks(np.linspace(0, 1, 11))\n",
    "    plt.yticks(np.linspace(0, 1, 11))\n",
    "    plt.xlabel('Thresholds')\n",
    "    plt.ylabel('TPr / FPr')\n",
    "    plt.gca().spines[['top', 'right']].set_visible(False);\n",
    "    \n",
    "# roc curve\n",
    "roc_c(rates_df_bsc.threshold, rates_df_bsc.tpr, rates_df_bsc.fpr)"
   ]
  },
  {
   "cell_type": "markdown",
   "metadata": {},
   "source": [
    "An ideal threshold would typically maximize TPr while keeping FPr to lowest possible. From above plot alone we can conclude that classification thresholds of 0.4-0.5 seems to be good candidates for our basic model, or isn't it?\n",
    "\n",
    "One benefit of ROC curve is comparability across different models, so we can benchmark our basic model performance against several others; for the purpose of demonstration we will manually generate predictions that mimic the performance of a dummy (random) and an ideal model."
   ]
  },
  {
   "cell_type": "code",
   "execution_count": 36,
   "metadata": {},
   "outputs": [
    {
     "data": {
      "text/html": [
       "<div>\n",
       "<style scoped>\n",
       "    .dataframe tbody tr th:only-of-type {\n",
       "        vertical-align: middle;\n",
       "    }\n",
       "\n",
       "    .dataframe tbody tr th {\n",
       "        vertical-align: top;\n",
       "    }\n",
       "\n",
       "    .dataframe thead th {\n",
       "        text-align: right;\n",
       "    }\n",
       "</style>\n",
       "<table border=\"1\" class=\"dataframe\">\n",
       "  <thead>\n",
       "    <tr style=\"text-align: right;\">\n",
       "      <th></th>\n",
       "      <th>threshold</th>\n",
       "      <th>tp</th>\n",
       "      <th>tn</th>\n",
       "      <th>fn</th>\n",
       "      <th>fp</th>\n",
       "      <th>tpr</th>\n",
       "      <th>fpr</th>\n",
       "    </tr>\n",
       "  </thead>\n",
       "  <tbody>\n",
       "    <tr>\n",
       "      <th>0</th>\n",
       "      <td>0.0</td>\n",
       "      <td>374</td>\n",
       "      <td>0</td>\n",
       "      <td>0</td>\n",
       "      <td>1035</td>\n",
       "      <td>1.000</td>\n",
       "      <td>1.000</td>\n",
       "    </tr>\n",
       "    <tr>\n",
       "      <th>10</th>\n",
       "      <td>0.1</td>\n",
       "      <td>330</td>\n",
       "      <td>95</td>\n",
       "      <td>44</td>\n",
       "      <td>940</td>\n",
       "      <td>0.882</td>\n",
       "      <td>0.908</td>\n",
       "    </tr>\n",
       "    <tr>\n",
       "      <th>20</th>\n",
       "      <td>0.2</td>\n",
       "      <td>300</td>\n",
       "      <td>206</td>\n",
       "      <td>74</td>\n",
       "      <td>829</td>\n",
       "      <td>0.802</td>\n",
       "      <td>0.801</td>\n",
       "    </tr>\n",
       "    <tr>\n",
       "      <th>30</th>\n",
       "      <td>0.3</td>\n",
       "      <td>271</td>\n",
       "      <td>306</td>\n",
       "      <td>103</td>\n",
       "      <td>729</td>\n",
       "      <td>0.725</td>\n",
       "      <td>0.704</td>\n",
       "    </tr>\n",
       "    <tr>\n",
       "      <th>40</th>\n",
       "      <td>0.4</td>\n",
       "      <td>228</td>\n",
       "      <td>402</td>\n",
       "      <td>146</td>\n",
       "      <td>633</td>\n",
       "      <td>0.610</td>\n",
       "      <td>0.612</td>\n",
       "    </tr>\n",
       "    <tr>\n",
       "      <th>50</th>\n",
       "      <td>0.5</td>\n",
       "      <td>186</td>\n",
       "      <td>501</td>\n",
       "      <td>188</td>\n",
       "      <td>534</td>\n",
       "      <td>0.497</td>\n",
       "      <td>0.516</td>\n",
       "    </tr>\n",
       "    <tr>\n",
       "      <th>60</th>\n",
       "      <td>0.6</td>\n",
       "      <td>147</td>\n",
       "      <td>612</td>\n",
       "      <td>227</td>\n",
       "      <td>423</td>\n",
       "      <td>0.393</td>\n",
       "      <td>0.409</td>\n",
       "    </tr>\n",
       "    <tr>\n",
       "      <th>70</th>\n",
       "      <td>0.7</td>\n",
       "      <td>111</td>\n",
       "      <td>723</td>\n",
       "      <td>263</td>\n",
       "      <td>312</td>\n",
       "      <td>0.297</td>\n",
       "      <td>0.301</td>\n",
       "    </tr>\n",
       "    <tr>\n",
       "      <th>80</th>\n",
       "      <td>0.8</td>\n",
       "      <td>78</td>\n",
       "      <td>829</td>\n",
       "      <td>296</td>\n",
       "      <td>206</td>\n",
       "      <td>0.209</td>\n",
       "      <td>0.199</td>\n",
       "    </tr>\n",
       "    <tr>\n",
       "      <th>90</th>\n",
       "      <td>0.9</td>\n",
       "      <td>37</td>\n",
       "      <td>931</td>\n",
       "      <td>337</td>\n",
       "      <td>104</td>\n",
       "      <td>0.099</td>\n",
       "      <td>0.100</td>\n",
       "    </tr>\n",
       "    <tr>\n",
       "      <th>100</th>\n",
       "      <td>1.0</td>\n",
       "      <td>0</td>\n",
       "      <td>1035</td>\n",
       "      <td>374</td>\n",
       "      <td>0</td>\n",
       "      <td>0.000</td>\n",
       "      <td>0.000</td>\n",
       "    </tr>\n",
       "  </tbody>\n",
       "</table>\n",
       "</div>"
      ],
      "text/plain": [
       "     threshold   tp    tn   fn    fp    tpr    fpr\n",
       "0          0.0  374     0    0  1035  1.000  1.000\n",
       "10         0.1  330    95   44   940  0.882  0.908\n",
       "20         0.2  300   206   74   829  0.802  0.801\n",
       "30         0.3  271   306  103   729  0.725  0.704\n",
       "40         0.4  228   402  146   633  0.610  0.612\n",
       "50         0.5  186   501  188   534  0.497  0.516\n",
       "60         0.6  147   612  227   423  0.393  0.409\n",
       "70         0.7  111   723  263   312  0.297  0.301\n",
       "80         0.8   78   829  296   206  0.209  0.199\n",
       "90         0.9   37   931  337   104  0.099  0.100\n",
       "100        1.0    0  1035  374     0  0.000  0.000"
      ]
     },
     "execution_count": 36,
     "metadata": {},
     "output_type": "execute_result"
    }
   ],
   "source": [
    "# dummy (random) model\n",
    "# generate random predictions that are uniformly (normally) distributed\n",
    "np.random.seed(1)\n",
    "\n",
    "y_rand = np.random.uniform(0, 1, size=len(y_test))\n",
    "\n",
    "# random model \n",
    "rates_df_rand = rates_df(y_test, y_rand, t)\n",
    "\n",
    "rates_df_rand[::10].round(3)"
   ]
  },
  {
   "cell_type": "code",
   "execution_count": 37,
   "metadata": {
    "scrolled": true
   },
   "outputs": [
    {
     "data": {
      "image/png": "[encoded data removed]",
      "text/plain": [
       "<Figure size 432x288 with 1 Axes>"
      ]
     },
     "metadata": {
      "needs_background": "light"
     },
     "output_type": "display_data"
    }
   ],
   "source": [
    "# Visualize random model ROC Curve\n",
    "roc_c(rates_df_rand.threshold, rates_df_rand.tpr, rates_df_rand.fpr)"
   ]
  },
  {
   "cell_type": "markdown",
   "metadata": {},
   "source": [
    "Straight line where both TPr and FPr are equal, dummy classifier is not able to distinguish properly between positive and negative class. Check index 50 in rates dataframe.\n",
    "\n",
    "On the other hand, an ideal model assigns higher weights to positive observations than negative ones when making predictions, thus, **there will be some sort of association between low weights (prediction probability) and negative observations**. Let's generate some ideal predictions where each observation is properly labeled by the classifier.\n",
    "\n",
    "Notes:\n",
    "- Weights (prediction probability) refer to class membership probability of 'predict_proba' method.\n",
    "- AUC is a measure of such association."
   ]
  },
  {
   "cell_type": "code",
   "execution_count": 38,
   "metadata": {
    "scrolled": true
   },
   "outputs": [
    {
     "data": {
      "text/html": [
       "<div>\n",
       "<style scoped>\n",
       "    .dataframe tbody tr th:only-of-type {\n",
       "        vertical-align: middle;\n",
       "    }\n",
       "\n",
       "    .dataframe tbody tr th {\n",
       "        vertical-align: top;\n",
       "    }\n",
       "\n",
       "    .dataframe thead th {\n",
       "        text-align: right;\n",
       "    }\n",
       "</style>\n",
       "<table border=\"1\" class=\"dataframe\">\n",
       "  <thead>\n",
       "    <tr style=\"text-align: right;\">\n",
       "      <th></th>\n",
       "      <th>threshold</th>\n",
       "      <th>tp</th>\n",
       "      <th>tn</th>\n",
       "      <th>fn</th>\n",
       "      <th>fp</th>\n",
       "      <th>tpr</th>\n",
       "      <th>fpr</th>\n",
       "    </tr>\n",
       "  </thead>\n",
       "  <tbody>\n",
       "    <tr>\n",
       "      <th>0</th>\n",
       "      <td>0.0</td>\n",
       "      <td>374</td>\n",
       "      <td>0</td>\n",
       "      <td>0</td>\n",
       "      <td>1035</td>\n",
       "      <td>1.000</td>\n",
       "      <td>1.000</td>\n",
       "    </tr>\n",
       "    <tr>\n",
       "      <th>10</th>\n",
       "      <td>0.1</td>\n",
       "      <td>374</td>\n",
       "      <td>141</td>\n",
       "      <td>0</td>\n",
       "      <td>894</td>\n",
       "      <td>1.000</td>\n",
       "      <td>0.864</td>\n",
       "    </tr>\n",
       "    <tr>\n",
       "      <th>20</th>\n",
       "      <td>0.2</td>\n",
       "      <td>374</td>\n",
       "      <td>282</td>\n",
       "      <td>0</td>\n",
       "      <td>753</td>\n",
       "      <td>1.000</td>\n",
       "      <td>0.728</td>\n",
       "    </tr>\n",
       "    <tr>\n",
       "      <th>30</th>\n",
       "      <td>0.3</td>\n",
       "      <td>374</td>\n",
       "      <td>423</td>\n",
       "      <td>0</td>\n",
       "      <td>612</td>\n",
       "      <td>1.000</td>\n",
       "      <td>0.591</td>\n",
       "    </tr>\n",
       "    <tr>\n",
       "      <th>40</th>\n",
       "      <td>0.4</td>\n",
       "      <td>374</td>\n",
       "      <td>564</td>\n",
       "      <td>0</td>\n",
       "      <td>471</td>\n",
       "      <td>1.000</td>\n",
       "      <td>0.455</td>\n",
       "    </tr>\n",
       "    <tr>\n",
       "      <th>50</th>\n",
       "      <td>0.5</td>\n",
       "      <td>374</td>\n",
       "      <td>705</td>\n",
       "      <td>0</td>\n",
       "      <td>330</td>\n",
       "      <td>1.000</td>\n",
       "      <td>0.319</td>\n",
       "    </tr>\n",
       "    <tr>\n",
       "      <th>60</th>\n",
       "      <td>0.6</td>\n",
       "      <td>374</td>\n",
       "      <td>846</td>\n",
       "      <td>0</td>\n",
       "      <td>189</td>\n",
       "      <td>1.000</td>\n",
       "      <td>0.183</td>\n",
       "    </tr>\n",
       "    <tr>\n",
       "      <th>70</th>\n",
       "      <td>0.7</td>\n",
       "      <td>374</td>\n",
       "      <td>987</td>\n",
       "      <td>0</td>\n",
       "      <td>48</td>\n",
       "      <td>1.000</td>\n",
       "      <td>0.046</td>\n",
       "    </tr>\n",
       "    <tr>\n",
       "      <th>80</th>\n",
       "      <td>0.8</td>\n",
       "      <td>281</td>\n",
       "      <td>1035</td>\n",
       "      <td>93</td>\n",
       "      <td>0</td>\n",
       "      <td>0.751</td>\n",
       "      <td>0.000</td>\n",
       "    </tr>\n",
       "    <tr>\n",
       "      <th>90</th>\n",
       "      <td>0.9</td>\n",
       "      <td>140</td>\n",
       "      <td>1035</td>\n",
       "      <td>234</td>\n",
       "      <td>0</td>\n",
       "      <td>0.374</td>\n",
       "      <td>0.000</td>\n",
       "    </tr>\n",
       "    <tr>\n",
       "      <th>100</th>\n",
       "      <td>1.0</td>\n",
       "      <td>0</td>\n",
       "      <td>1035</td>\n",
       "      <td>374</td>\n",
       "      <td>0</td>\n",
       "      <td>0.000</td>\n",
       "      <td>0.000</td>\n",
       "    </tr>\n",
       "  </tbody>\n",
       "</table>\n",
       "</div>"
      ],
      "text/plain": [
       "     threshold   tp    tn   fn    fp    tpr    fpr\n",
       "0          0.0  374     0    0  1035  1.000  1.000\n",
       "10         0.1  374   141    0   894  1.000  0.864\n",
       "20         0.2  374   282    0   753  1.000  0.728\n",
       "30         0.3  374   423    0   612  1.000  0.591\n",
       "40         0.4  374   564    0   471  1.000  0.455\n",
       "50         0.5  374   705    0   330  1.000  0.319\n",
       "60         0.6  374   846    0   189  1.000  0.183\n",
       "70         0.7  374   987    0    48  1.000  0.046\n",
       "80         0.8  281  1035   93     0  0.751  0.000\n",
       "90         0.9  140  1035  234     0  0.374  0.000\n",
       "100        1.0    0  1035  374     0  0.000  0.000"
      ]
     },
     "execution_count": 38,
     "metadata": {},
     "output_type": "execute_result"
    }
   ],
   "source": [
    "# generate ideal predictions\n",
    "\n",
    "# count of negative and positive examples\n",
    "neg_obs = (y_test == 0).sum()\n",
    "pos_obs = len(y_test) - neg_obs\n",
    "\n",
    "# sorting actual labels \n",
    "y_ideal = np.repeat([0, 1], [neg_obs, pos_obs])\n",
    "\n",
    "# ideal predictions, ascending from 0 to 1\n",
    "y_pred_ideal = np.linspace(0, 1, len(y_ideal), endpoint=False)\n",
    "\n",
    "# ideal model\n",
    "rates_df_ideal = rates_df(y_ideal, y_pred_ideal, t)\n",
    "\n",
    "rates_df_ideal[::10].round(3)"
   ]
  },
  {
   "cell_type": "code",
   "execution_count": 39,
   "metadata": {},
   "outputs": [
    {
     "data": {
      "text/html": [
       "<div>\n",
       "<style scoped>\n",
       "    .dataframe tbody tr th:only-of-type {\n",
       "        vertical-align: middle;\n",
       "    }\n",
       "\n",
       "    .dataframe tbody tr th {\n",
       "        vertical-align: top;\n",
       "    }\n",
       "\n",
       "    .dataframe thead th {\n",
       "        text-align: right;\n",
       "    }\n",
       "</style>\n",
       "<table border=\"1\" class=\"dataframe\">\n",
       "  <thead>\n",
       "    <tr style=\"text-align: right;\">\n",
       "      <th></th>\n",
       "      <th>0</th>\n",
       "      <th>1</th>\n",
       "      <th>2</th>\n",
       "      <th>3</th>\n",
       "      <th>4</th>\n",
       "      <th>5</th>\n",
       "      <th>6</th>\n",
       "      <th>7</th>\n",
       "      <th>8</th>\n",
       "      <th>9</th>\n",
       "      <th>10</th>\n",
       "      <th>11</th>\n",
       "      <th>12</th>\n",
       "      <th>13</th>\n",
       "      <th>14</th>\n",
       "      <th>15</th>\n",
       "      <th>16</th>\n",
       "      <th>17</th>\n",
       "      <th>18</th>\n",
       "      <th>19</th>\n",
       "    </tr>\n",
       "  </thead>\n",
       "  <tbody>\n",
       "    <tr>\n",
       "      <th>actual</th>\n",
       "      <td>0.000</td>\n",
       "      <td>0.000</td>\n",
       "      <td>0.000</td>\n",
       "      <td>0.00</td>\n",
       "      <td>0.00</td>\n",
       "      <td>0.000</td>\n",
       "      <td>0.000</td>\n",
       "      <td>0.000</td>\n",
       "      <td>0.000</td>\n",
       "      <td>0.000</td>\n",
       "      <td>1.000</td>\n",
       "      <td>1.000</td>\n",
       "      <td>1.000</td>\n",
       "      <td>1.000</td>\n",
       "      <td>1.000</td>\n",
       "      <td>1.000</td>\n",
       "      <td>1.000</td>\n",
       "      <td>1.00</td>\n",
       "      <td>1.00</td>\n",
       "      <td>1.000</td>\n",
       "    </tr>\n",
       "    <tr>\n",
       "      <th>pred_proba</th>\n",
       "      <td>0.727</td>\n",
       "      <td>0.728</td>\n",
       "      <td>0.729</td>\n",
       "      <td>0.73</td>\n",
       "      <td>0.73</td>\n",
       "      <td>0.731</td>\n",
       "      <td>0.732</td>\n",
       "      <td>0.732</td>\n",
       "      <td>0.733</td>\n",
       "      <td>0.734</td>\n",
       "      <td>0.735</td>\n",
       "      <td>0.735</td>\n",
       "      <td>0.736</td>\n",
       "      <td>0.737</td>\n",
       "      <td>0.737</td>\n",
       "      <td>0.738</td>\n",
       "      <td>0.739</td>\n",
       "      <td>0.74</td>\n",
       "      <td>0.74</td>\n",
       "      <td>0.741</td>\n",
       "    </tr>\n",
       "    <tr>\n",
       "      <th>decision</th>\n",
       "      <td>0.000</td>\n",
       "      <td>0.000</td>\n",
       "      <td>0.000</td>\n",
       "      <td>0.00</td>\n",
       "      <td>0.00</td>\n",
       "      <td>0.000</td>\n",
       "      <td>0.000</td>\n",
       "      <td>0.000</td>\n",
       "      <td>0.000</td>\n",
       "      <td>0.000</td>\n",
       "      <td>0.000</td>\n",
       "      <td>0.000</td>\n",
       "      <td>0.000</td>\n",
       "      <td>0.000</td>\n",
       "      <td>0.000</td>\n",
       "      <td>0.000</td>\n",
       "      <td>0.000</td>\n",
       "      <td>1.00</td>\n",
       "      <td>1.00</td>\n",
       "      <td>1.000</td>\n",
       "    </tr>\n",
       "  </tbody>\n",
       "</table>\n",
       "</div>"
      ],
      "text/plain": [
       "               0      1      2     3     4      5      6      7      8   \\\n",
       "actual      0.000  0.000  0.000  0.00  0.00  0.000  0.000  0.000  0.000   \n",
       "pred_proba  0.727  0.728  0.729  0.73  0.73  0.731  0.732  0.732  0.733   \n",
       "decision    0.000  0.000  0.000  0.00  0.00  0.000  0.000  0.000  0.000   \n",
       "\n",
       "               9      10     11     12     13     14     15     16    17  \\\n",
       "actual      0.000  1.000  1.000  1.000  1.000  1.000  1.000  1.000  1.00   \n",
       "pred_proba  0.734  0.735  0.735  0.736  0.737  0.737  0.738  0.739  0.74   \n",
       "decision    0.000  0.000  0.000  0.000  0.000  0.000  0.000  0.000  1.00   \n",
       "\n",
       "              18     19  \n",
       "actual      1.00  1.000  \n",
       "pred_proba  0.74  0.741  \n",
       "decision    1.00  1.000  "
      ]
     },
     "execution_count": 39,
     "metadata": {},
     "output_type": "execute_result"
    }
   ],
   "source": [
    "# relationship between sorted label vs prediction proba vs classification threshold of 74%\n",
    "classification_decision = [0, 0, 0, 0, 0, 0, 0, 0, 0, 0, 0, 0, 0, 0, 0, 0, 0, 1, 1, 1]\n",
    "\n",
    "t_vs_p = pd.DataFrame((y_ideal[-384:-364], y_pred_ideal[-384:-364].round(3), classification_decision)\n",
    "                     ).T.rename(columns={0:'actual', 1:'pred_proba', 2:'decision'}).round(3).T\n",
    "\n",
    "t_vs_p"
   ]
  },
  {
   "cell_type": "code",
   "execution_count": 40,
   "metadata": {},
   "outputs": [
    {
     "data": {
      "text/plain": [
       "0.735"
      ]
     },
     "execution_count": 40,
     "metadata": {},
     "output_type": "execute_result"
    }
   ],
   "source": [
    "# global average no-churn (priori) \n",
    "1 - y_test.mean().round(3)"
   ]
  },
  {
   "cell_type": "markdown",
   "metadata": {},
   "source": [
    "We first sorted actual labels then generated predictions in an ascending order; this means that most of negative observations will be associated with low prediction probability and vice versa.\n",
    "\n",
    "Why? Because this is what predictions of a skilled classifier should look like, this means that it is able to discriminate both observations with ease, placing high prediction probability on positive observations and lower probability on negative ones.\n",
    "\n",
    "Couple of interesting observations:\n",
    "\n",
    "- Below any given threshold everything is classified as being a negative observation (i.e.: no churn) and vice versa. In our ideal example (predictions are well sorted against class labels) the negative observations occupy only 73% of all observations (global no churn mean is 73%), then we'd expect that some positive observations (i.e.: churn) will be classified as being negative (i.e.: no-churn) if we increase classification threshold above 73%; because we'd be including some of the positive observations into such classification. Check indices 10 --> 19 in 't_vs_p'\n",
    "\n",
    "- Skilled classifier places more weights (prediction probability) on positive observations, which means that whenever two observations are randomly chosen the positive observation will always have higher weight (prediction probability) than negative one. This is reflected in the absence of FN observations up to classification threshold of 0.7 with TPr (recall) = 100%, which starts to increase with the increase in threshold as the classifier *miss* some positive observations, as mentioned above, resulting in reduction in recall equivalent to number of missed observations. Check index 70 & 80 in 'rates_df_ideal'.\n",
    "\n",
    "- Optimal threshold shifted from being in the range of 0.5 in basic model to being in the range of 0.7 in ideal model where TPr is maximized while FPr is at its lowest possible.\n",
    "\n",
    "Notes:\n",
    "- As noted earlier when capturing prediction probability of a model, we are only interested in that related to positive observation; so when we say that *a skilled classifier assigns higher probability for positive class* it needs to be understood within this context. If model assigns high probability of being a positive observation to an actual negative observation then this model is not skilled."
   ]
  },
  {
   "cell_type": "code",
   "execution_count": 41,
   "metadata": {},
   "outputs": [
    {
     "data": {
      "text/html": [
       "<div>\n",
       "<style scoped>\n",
       "    .dataframe tbody tr th:only-of-type {\n",
       "        vertical-align: middle;\n",
       "    }\n",
       "\n",
       "    .dataframe tbody tr th {\n",
       "        vertical-align: top;\n",
       "    }\n",
       "\n",
       "    .dataframe thead th {\n",
       "        text-align: right;\n",
       "    }\n",
       "</style>\n",
       "<table border=\"1\" class=\"dataframe\">\n",
       "  <thead>\n",
       "    <tr style=\"text-align: right;\">\n",
       "      <th></th>\n",
       "      <th>threshold</th>\n",
       "      <th>tp</th>\n",
       "      <th>tn</th>\n",
       "      <th>fn</th>\n",
       "      <th>fp</th>\n",
       "      <th>tpr</th>\n",
       "      <th>fpr</th>\n",
       "    </tr>\n",
       "  </thead>\n",
       "  <tbody>\n",
       "    <tr>\n",
       "      <th>70</th>\n",
       "      <td>0.70</td>\n",
       "      <td>374</td>\n",
       "      <td>987</td>\n",
       "      <td>0</td>\n",
       "      <td>48</td>\n",
       "      <td>1.000</td>\n",
       "      <td>0.046</td>\n",
       "    </tr>\n",
       "    <tr>\n",
       "      <th>71</th>\n",
       "      <td>0.71</td>\n",
       "      <td>374</td>\n",
       "      <td>1001</td>\n",
       "      <td>0</td>\n",
       "      <td>34</td>\n",
       "      <td>1.000</td>\n",
       "      <td>0.033</td>\n",
       "    </tr>\n",
       "    <tr>\n",
       "      <th>72</th>\n",
       "      <td>0.72</td>\n",
       "      <td>374</td>\n",
       "      <td>1015</td>\n",
       "      <td>0</td>\n",
       "      <td>20</td>\n",
       "      <td>1.000</td>\n",
       "      <td>0.019</td>\n",
       "    </tr>\n",
       "    <tr>\n",
       "      <th>73</th>\n",
       "      <td>0.73</td>\n",
       "      <td>374</td>\n",
       "      <td>1029</td>\n",
       "      <td>0</td>\n",
       "      <td>6</td>\n",
       "      <td>1.000</td>\n",
       "      <td>0.006</td>\n",
       "    </tr>\n",
       "    <tr>\n",
       "      <th>74</th>\n",
       "      <td>0.74</td>\n",
       "      <td>366</td>\n",
       "      <td>1035</td>\n",
       "      <td>8</td>\n",
       "      <td>0</td>\n",
       "      <td>0.979</td>\n",
       "      <td>0.000</td>\n",
       "    </tr>\n",
       "    <tr>\n",
       "      <th>75</th>\n",
       "      <td>0.75</td>\n",
       "      <td>352</td>\n",
       "      <td>1035</td>\n",
       "      <td>22</td>\n",
       "      <td>0</td>\n",
       "      <td>0.941</td>\n",
       "      <td>0.000</td>\n",
       "    </tr>\n",
       "    <tr>\n",
       "      <th>76</th>\n",
       "      <td>0.76</td>\n",
       "      <td>338</td>\n",
       "      <td>1035</td>\n",
       "      <td>36</td>\n",
       "      <td>0</td>\n",
       "      <td>0.904</td>\n",
       "      <td>0.000</td>\n",
       "    </tr>\n",
       "    <tr>\n",
       "      <th>77</th>\n",
       "      <td>0.77</td>\n",
       "      <td>324</td>\n",
       "      <td>1035</td>\n",
       "      <td>50</td>\n",
       "      <td>0</td>\n",
       "      <td>0.866</td>\n",
       "      <td>0.000</td>\n",
       "    </tr>\n",
       "    <tr>\n",
       "      <th>78</th>\n",
       "      <td>0.78</td>\n",
       "      <td>309</td>\n",
       "      <td>1035</td>\n",
       "      <td>65</td>\n",
       "      <td>0</td>\n",
       "      <td>0.826</td>\n",
       "      <td>0.000</td>\n",
       "    </tr>\n",
       "    <tr>\n",
       "      <th>79</th>\n",
       "      <td>0.79</td>\n",
       "      <td>295</td>\n",
       "      <td>1035</td>\n",
       "      <td>79</td>\n",
       "      <td>0</td>\n",
       "      <td>0.789</td>\n",
       "      <td>0.000</td>\n",
       "    </tr>\n",
       "  </tbody>\n",
       "</table>\n",
       "</div>"
      ],
      "text/plain": [
       "    threshold   tp    tn  fn  fp    tpr    fpr\n",
       "70       0.70  374   987   0  48  1.000  0.046\n",
       "71       0.71  374  1001   0  34  1.000  0.033\n",
       "72       0.72  374  1015   0  20  1.000  0.019\n",
       "73       0.73  374  1029   0   6  1.000  0.006\n",
       "74       0.74  366  1035   8   0  0.979  0.000\n",
       "75       0.75  352  1035  22   0  0.941  0.000\n",
       "76       0.76  338  1035  36   0  0.904  0.000\n",
       "77       0.77  324  1035  50   0  0.866  0.000\n",
       "78       0.78  309  1035  65   0  0.826  0.000\n",
       "79       0.79  295  1035  79   0  0.789  0.000"
      ]
     },
     "execution_count": 41,
     "metadata": {},
     "output_type": "execute_result"
    }
   ],
   "source": [
    "# optimal threshold - ideal model\n",
    "rates_df_ideal[(rates_df_ideal.threshold >=  0.7) & (rates_df_ideal.threshold <  0.8)].round(3)"
   ]
  },
  {
   "cell_type": "markdown",
   "metadata": {},
   "source": [
    "It might be confusing thought when we say that *skilled classifier places more weights on positive observations* and at the same time we note large number of FP moving towards higher threshold; to clear this confusion think of threshold as a limit that follows class distribution, what happens within that limit is a measure of classifier performance.\n",
    "\n",
    "Example: at threshold 0.7 we capture all positive observations and most of negative observations too (positive observations are only 27% of total observations), the classifier is correctly identifying positive and negative examples (aka higher predict probability for positive examples than negative ones); check index 73.\n",
    "\n",
    "Summary:\n",
    "\n",
    "Considering an Ideal model we'd expect:\n",
    "\n",
    "- Higher weights on positive class than negative ones, picking two random observations at any given threshold the probability of positive class will always be higher.\n",
    "\n",
    "- If we sort observations the associated weights (prediction probability) will also be similarly sorted. Negative observations will have lower corresponding weights than positive ones."
   ]
  },
  {
   "cell_type": "code",
   "execution_count": 42,
   "metadata": {
    "scrolled": true
   },
   "outputs": [
    {
     "data": {
      "image/png": "[encoded data removed]",
      "text/plain": [
       "<Figure size 432x288 with 1 Axes>"
      ]
     },
     "metadata": {
      "needs_background": "light"
     },
     "output_type": "display_data"
    }
   ],
   "source": [
    "# Visualize ideal model ROC Curve\n",
    "roc_c(rates_df_ideal.threshold, rates_df_ideal.tpr, rates_df_ideal.fpr)\n",
    "plt.vlines(1 - y_ideal.mean(), 0, 1, linewidth=0.5, linestyle='dashed', color='red');"
   ]
  },
  {
   "cell_type": "markdown",
   "metadata": {},
   "source": [
    "TPr is maximized at any given threshold, decline starts following shifting in class distribution."
   ]
  },
  {
   "cell_type": "code",
   "execution_count": 43,
   "metadata": {},
   "outputs": [
    {
     "data": {
      "image/png": "[encoded data removed]",
      "text/plain": [
       "<Figure size 360x360 with 1 Axes>"
      ]
     },
     "metadata": {
      "needs_background": "light"
     },
     "output_type": "display_data"
    }
   ],
   "source": [
    "# visualizing all models together\n",
    "\n",
    "plt.figure(figsize=(5, 5))\n",
    "\n",
    "plt.plot(rates_df_bsc.fpr, rates_df_bsc.tpr, color='orange', label='Model')\n",
    "plt.plot(rates_df_rand.fpr, rates_df_rand.tpr, color='cyan', lw=1, linestyle='dashed', label='Random')\n",
    "plt.plot(rates_df_ideal.fpr, rates_df_ideal.tpr, color='red', lw=1, linestyle='solid', label='Ideal')\n",
    "\n",
    "plt.legend()\n",
    "\n",
    "plt.xlim([-0.02, 1.02])\n",
    "plt.ylim([-0.02, 1.02])\n",
    "plt.xlabel('False Positive Rate')\n",
    "plt.ylabel('True Positive Rate')\n",
    "\n",
    "plt.gca().spines[['top', 'right']].set_visible(False);"
   ]
  },
  {
   "cell_type": "markdown",
   "metadata": {},
   "source": [
    "When plotting ROC curve we're interested in TPr vs FPr, threshold starts at 1 (cords 0, 0) and decrease till 0 (cords 1,1). We want our model to behave as closely as possible to an ideal model because now we understand that this high curve means strong discriminatory power, but how to quantify this power? Using AUC."
   ]
  },
  {
   "cell_type": "markdown",
   "metadata": {},
   "source": [
    "**<a href=\"#Toc\" style='color:#00ffff'>Table of contents</a>**"
   ]
  },
  {
   "cell_type": "markdown",
   "metadata": {},
   "source": [
    "<a id='auc'></a>"
   ]
  },
  {
   "cell_type": "markdown",
   "metadata": {},
   "source": [
    "##### AUC\n",
    "\n",
    "AUC is a **sorting-based algorithm** that measure how well predictions are sorted. We previously mentioned and demonstrated the relationship between sorting and model performance, if a classifier is skillful there should be some correspondence between positive observations and high prediction probability. In contrast, if the classifier has no skill, the ordering should be random.\n",
    "\n",
    "The ideal model discussed previously is rarely applicable due to classification errors; this means that negative observations will receive higher prediction probability than positive ones in some cases, which will be captured if observations and corresponding predictions are sorted. \n",
    "\n",
    "Using a sorting algorithm such as AUC we can obtain a quantitative measure of model performance based on how well predictions are sorted which reflects model's ability to distinguish between positive and negative examples based on the assigned weights (prediction probability), the better the model the higher the weights for positive observations than negative ones. What kind of sorcery is this!\n",
    "\n",
    "This means that higher AUC = high prediction probability for positive observations = better model performance, this is the relationship we'll try to understand next.\n",
    "\n",
    "In the upcoming demonstration we will assume the following:\n",
    "\n",
    "- Each prediction is considered in turn.\n",
    "- There are no ties (prediction probability for positive and negative observations are not equal), if ties exist calculations will be slightly different but within the same context so it won't affect our understanding.\n",
    "\n",
    "How it works:\n",
    "\n",
    "- Area is gained whenever a positive observation has a higher associated prediction probability than **any** of the negative ones\n",
    "- No area is gained for negative observations\n",
    "- For each positive observation, the area gained is a function of the number of negative observations having a higher prediction probability than the current positive observation and the total observations \n",
    "- The sum of negative observations with higher prediction probability than each positive one can be obtained from the **ranks** of the weights (prediction probability) corresponding to each positive observation."
   ]
  },
  {
   "cell_type": "code",
   "execution_count": 44,
   "metadata": {},
   "outputs": [
    {
     "data": {
      "text/plain": [
       "'Ideal classifier:'"
      ]
     },
     "metadata": {},
     "output_type": "display_data"
    },
    {
     "data": {
      "text/html": [
       "<div>\n",
       "<style scoped>\n",
       "    .dataframe tbody tr th:only-of-type {\n",
       "        vertical-align: middle;\n",
       "    }\n",
       "\n",
       "    .dataframe tbody tr th {\n",
       "        vertical-align: top;\n",
       "    }\n",
       "\n",
       "    .dataframe thead th {\n",
       "        text-align: right;\n",
       "    }\n",
       "</style>\n",
       "<table border=\"1\" class=\"dataframe\">\n",
       "  <thead>\n",
       "    <tr style=\"text-align: right;\">\n",
       "      <th></th>\n",
       "      <th>0</th>\n",
       "      <th>1</th>\n",
       "      <th>2</th>\n",
       "      <th>3</th>\n",
       "      <th>4</th>\n",
       "      <th>5</th>\n",
       "      <th>6</th>\n",
       "      <th>7</th>\n",
       "      <th>8</th>\n",
       "    </tr>\n",
       "  </thead>\n",
       "  <tbody>\n",
       "    <tr>\n",
       "      <th>actual</th>\n",
       "      <td>0.0</td>\n",
       "      <td>0.0</td>\n",
       "      <td>0.0</td>\n",
       "      <td>0.0</td>\n",
       "      <td>1.0</td>\n",
       "      <td>1.0</td>\n",
       "      <td>1.0</td>\n",
       "      <td>1.0</td>\n",
       "      <td>1.0</td>\n",
       "    </tr>\n",
       "    <tr>\n",
       "      <th>pred_proba</th>\n",
       "      <td>0.1</td>\n",
       "      <td>0.2</td>\n",
       "      <td>0.3</td>\n",
       "      <td>0.4</td>\n",
       "      <td>0.5</td>\n",
       "      <td>0.6</td>\n",
       "      <td>0.7</td>\n",
       "      <td>0.8</td>\n",
       "      <td>0.9</td>\n",
       "    </tr>\n",
       "  </tbody>\n",
       "</table>\n",
       "</div>"
      ],
      "text/plain": [
       "              0    1    2    3    4    5    6    7    8\n",
       "actual      0.0  0.0  0.0  0.0  1.0  1.0  1.0  1.0  1.0\n",
       "pred_proba  0.1  0.2  0.3  0.4  0.5  0.6  0.7  0.8  0.9"
      ]
     },
     "metadata": {},
     "output_type": "display_data"
    },
    {
     "data": {
      "text/plain": [
       "'Normal classifier:'"
      ]
     },
     "metadata": {},
     "output_type": "display_data"
    },
    {
     "data": {
      "text/html": [
       "<div>\n",
       "<style scoped>\n",
       "    .dataframe tbody tr th:only-of-type {\n",
       "        vertical-align: middle;\n",
       "    }\n",
       "\n",
       "    .dataframe tbody tr th {\n",
       "        vertical-align: top;\n",
       "    }\n",
       "\n",
       "    .dataframe thead th {\n",
       "        text-align: right;\n",
       "    }\n",
       "</style>\n",
       "<table border=\"1\" class=\"dataframe\">\n",
       "  <thead>\n",
       "    <tr style=\"text-align: right;\">\n",
       "      <th></th>\n",
       "      <th>0</th>\n",
       "      <th>1</th>\n",
       "      <th>2</th>\n",
       "      <th>3</th>\n",
       "      <th>4</th>\n",
       "      <th>5</th>\n",
       "      <th>6</th>\n",
       "      <th>7</th>\n",
       "      <th>8</th>\n",
       "    </tr>\n",
       "  </thead>\n",
       "  <tbody>\n",
       "    <tr>\n",
       "      <th>actual</th>\n",
       "      <td>1.0</td>\n",
       "      <td>0.0</td>\n",
       "      <td>0.0</td>\n",
       "      <td>1.0</td>\n",
       "      <td>1.0</td>\n",
       "      <td>0.0</td>\n",
       "      <td>1.0</td>\n",
       "      <td>0.0</td>\n",
       "      <td>0.0</td>\n",
       "    </tr>\n",
       "    <tr>\n",
       "      <th>pred_proba</th>\n",
       "      <td>0.9</td>\n",
       "      <td>0.8</td>\n",
       "      <td>0.7</td>\n",
       "      <td>0.6</td>\n",
       "      <td>0.5</td>\n",
       "      <td>0.4</td>\n",
       "      <td>0.3</td>\n",
       "      <td>0.2</td>\n",
       "      <td>0.1</td>\n",
       "    </tr>\n",
       "  </tbody>\n",
       "</table>\n",
       "</div>"
      ],
      "text/plain": [
       "              0    1    2    3    4    5    6    7    8\n",
       "actual      1.0  0.0  0.0  1.0  1.0  0.0  1.0  0.0  0.0\n",
       "pred_proba  0.9  0.8  0.7  0.6  0.5  0.4  0.3  0.2  0.1"
      ]
     },
     "metadata": {},
     "output_type": "display_data"
    }
   ],
   "source": [
    "# Toy data\n",
    "\n",
    "# ideal classifier\n",
    "ideal_df = pd.DataFrame(data = {'actual': [0,0,0,0,1,1,1,1,1], 'pred_proba': [0.1, 0.2, 0.3, 0.4, 0.5, 0.6, 0.7, 0.8, 0.9]})\n",
    "\n",
    "# normal classifier\n",
    "normal_df = pd.DataFrame(data = {'actual': [1,0,0,1,1,0,1,0,0], 'pred_proba': [0.9, 0.8, 0.7, 0.6, 0.5, 0.4, 0.3, 0.2, 0.1]})\n",
    "\n",
    "display('Ideal classifier:', ideal_df.T, 'Normal classifier:', normal_df.T)"
   ]
  },
  {
   "cell_type": "code",
   "execution_count": 45,
   "metadata": {},
   "outputs": [
    {
     "name": "stdout",
     "output_type": "stream",
     "text": [
      "area @ no-inversion: 0.25 \n",
      "area @ each inversion: 0.15 0.15 0.1\n"
     ]
    }
   ],
   "source": [
    "# area gained vs inversions\n",
    "\n",
    "# (negative examples - inversions) / total observation pairs\n",
    "print('area @ no-inversion:', (5 - 0) / (5 * 4) , '\\n'\n",
    "      'area @ each inversion:', (5 - 2) / (5 * 4) , (5 - 2) / (5 * 4) , (5 - 3) / (5 * 4))"
   ]
  },
  {
   "cell_type": "code",
   "execution_count": 46,
   "metadata": {},
   "outputs": [
    {
     "data": {
      "text/plain": [
       "0.65"
      ]
     },
     "execution_count": 46,
     "metadata": {},
     "output_type": "execute_result"
    }
   ],
   "source": [
    "# total area gained (AUC) for normal classifier\n",
    "((5 - 0) + (5 - 2) + (5 - 2) + (5 - 3)) / (5 * 4)"
   ]
  },
  {
   "cell_type": "code",
   "execution_count": 47,
   "metadata": {},
   "outputs": [
    {
     "name": "stdout",
     "output_type": "stream",
     "text": [
      "AUC - Ideal Classifier: 1.0\n",
      "AUC - Normal Classifier: 0.65\n"
     ]
    }
   ],
   "source": [
    "# AUC - Normal vs Ideal classifier\n",
    "\n",
    "# total positive examples\n",
    "n1 = normal_df.actual.sum()\n",
    "n0 = normal_df.actual.count() - n1\n",
    "\n",
    "print('AUC - Ideal Classifier: ', 1 - 0 / (n1*n0), '\\n' , 'AUC - Normal Classifier: ', 1 - 7 / (n1*n0), sep = '')"
   ]
  },
  {
   "cell_type": "code",
   "execution_count": 48,
   "metadata": {},
   "outputs": [
    {
     "name": "stdout",
     "output_type": "stream",
     "text": [
      "AUC - Ideal Classifier: 1.0\n",
      "AUC - Normal Classifier: 0.65\n"
     ]
    }
   ],
   "source": [
    "# AUC - sklearn\n",
    "auc_ideal = roc_auc_score(ideal_df.actual, ideal_df.pred_proba)\n",
    "auc_normal = roc_auc_score(normal_df.actual, normal_df.pred_proba)\n",
    "\n",
    "print('AUC - Ideal Classifier: ', auc_ideal, '\\n' , 'AUC - Normal Classifier: ',  auc_normal.round(2), sep = '')"
   ]
  },
  {
   "cell_type": "markdown",
   "metadata": {},
   "source": [
    "Considering Normal classifier as an example:\n",
    "\n",
    "There are 4 positive and 5 negative observations forming a total of 20 (5 * 4) pairs of randomly selected observations (one from each class), a skilled classifier would have higher probabilities associated with the positive observations than those associated with negative ones. \n",
    "\n",
    "Area is: \n",
    "- Gained whenever a positive observation has a higher associated prediction probability than *any* of the negative ones,\n",
    "- Gain is maximized with the absence of inversion\n",
    "\n",
    "We can calculate area gained as:\n",
    "\n",
    "$\\frac {n_0 - f}{n_0n_1}$\n",
    "\n",
    "Where:\n",
    "\n",
    "- $n_1$ = total positive observations \n",
    "- $n_0$ = total negative observations\n",
    "- $f$ is inversion, how many times negative observation**s** had higher prediction probability than the *current* positive one?\n",
    "\n",
    "Total area (AUC) can then be derived as:\n",
    "\n",
    "1 - $\\frac{F}{n_0n_1}$\n",
    "\n",
    "where:\n",
    "\n",
    "$F$ is the summed number of cases where the prediction probability of a positive observation was exceeded by that of negative ones. Such reversal in order is termed *inversion* in the literature of sorting algorithms; in our example there are 7 inversion occurrences as follows (0 based indexing):\n",
    "- 3 from Index 1 vs 3, 4 and 6\n",
    "- 3 from Index 2 vs 3, 4 and 6\n",
    "- 1 from Index 5 vs 6\n",
    "\n",
    "Summary:\n",
    "\n",
    "- Skilled classifier associates higher prediction probability to positive observations\n",
    "- AUC is a sorting algorithm; its score reflects how well higher prediction probabilities are associated with positive observations\n",
    "- Each positive observation having higher associated prediction probability than *any* of negative ones contribute to the AUC\n",
    "- Inversions decrease the area gained\n",
    "- Minimum value of $F$ is achieved when **all** positive observations have higher prediction probability than **all** negative ones. In this case the value of $F$ is 0 which corresponds to a AUC of 1.0; this can be noted from the calculated AUC of ideal classifier."
   ]
  },
  {
   "cell_type": "code",
   "execution_count": 49,
   "metadata": {},
   "outputs": [
    {
     "data": {
      "text/plain": [
       "0.65"
      ]
     },
     "execution_count": 49,
     "metadata": {},
     "output_type": "execute_result"
    }
   ],
   "source": [
    "# using ranks to calculate AUC\n",
    "# ranks are index of positive examples starting from 1\n",
    "round(1 - ((1 + 4 + 5 + 7) - n1 * (n1 + 1) / 2) / (n1 * n0), 2)"
   ]
  },
  {
   "cell_type": "markdown",
   "metadata": {},
   "source": [
    "We can calculate $F$ (summed number of cases where the prediction probability of a positive observation was exceeded by the prediction probability of negative ones) using ranks of positive observations prediction probabilities, the normal classifier dataset is sorted in descending order so we capture index of each positive observation and substitute $r$ in the following formula:\n",
    "\n",
    "$F$ = $\\sum_{n=1}^{n_1}$ $r_n$ - $\\frac{n_1(n_1 + 1)}{2}$\n",
    "\n",
    "Where:\n",
    "\n",
    "$r_n$ = ranks of positive examples\n",
    "\n",
    "Then AUC can be calculated as shown above:\n",
    "\n",
    "1 - $\\frac{F}{n_1 * n_0}$"
   ]
  },
  {
   "cell_type": "code",
   "execution_count": 50,
   "metadata": {},
   "outputs": [
    {
     "data": {
      "text/plain": [
       "(0.65, 13.0, 7.0, 20.0)"
      ]
     },
     "execution_count": 50,
     "metadata": {},
     "output_type": "execute_result"
    }
   ],
   "source": [
    "# Mann–Whitney U-test\n",
    "\n",
    "# sorting predictions in ascending order and obtaining ranks \n",
    "# + 1 because of zero indexing \n",
    "ranks = np.argsort(normal_df.pred_proba)[normal_df.actual == 1] + 1\n",
    "\n",
    "# U-statistic for positive examples\n",
    "U1 = np.sum(ranks) - n1 * (n1 + 1) / 2\n",
    "\n",
    "# U-statistic for negative examples\n",
    "U0 = n1 * n0 - U1\n",
    "\n",
    "U = U1 + U0\n",
    "\n",
    "# AUC is equivelant to U statistic\n",
    "AUC = U1 / (n1 * n0)\n",
    "\n",
    "# Results\n",
    "AUC, U1, U0, U"
   ]
  },
  {
   "cell_type": "markdown",
   "metadata": {},
   "source": [
    "It's worth mentioning that AUC can also be calculated using *Mann-Whitney U test* where *U* statistic is equivalent to AUC. Don't panic, it's easy!\n",
    "\n",
    "In a nutshell, the null hypothesis (what the test tries to prove) of U test is that the distribution underlying sample x (actual class labels) is the same as the distribution underlying sample y (predicted class label). We calculate U statistic as follows:\n",
    "\n",
    "$U_1$ = $\\sum_{n=1}^{n_1}$ $r_{n}$ - $\\frac{n_1(n_1 + 1)}{2}$\n",
    "\n",
    "$U_0$ = $\\sum_{n=1}^{n_0}$ $r_{n}$ - $\\frac{n_0(n_0 + 1)}{2}$\n",
    "\n",
    "$U$ = $U_1$ + $U_0$ = $n_1$ * $n_0$\n",
    "\n",
    "Where:\n",
    "\n",
    "$U_1$ is statistic of positive observations\n",
    "$U_0$ is statistic of negative observations\n",
    "\n",
    "Then AUC can be derived as:\n",
    "\n",
    "$AUC$ = $\\frac{U_1}{n_1 * n_0}$\n",
    "\n",
    "Notes:\n",
    "\n",
    "- $U_1$ is exactly the same calculation as $F$\n",
    "\n",
    "- Difference between ranks in $F$ and $U_1$ calculation is the sorting, in $F$ we captured ranks after sorting in descending order contrary to what we did in $U_1$"
   ]
  },
  {
   "cell_type": "markdown",
   "metadata": {},
   "source": [
    "**<a href=\"#Toc\" style='color:#00ffff'>Table of contents</a>**"
   ]
  },
  {
   "cell_type": "markdown",
   "metadata": {},
   "source": [
    "<a id='sum'></a>"
   ]
  },
  {
   "cell_type": "markdown",
   "metadata": {},
   "source": [
    "##### Summary - AUC:\n",
    "\n",
    "\n",
    "To wrap up this interesting topic, let's visualize what does it really mean to say *Area is gained whenever a positive observation has a higher associated prediction probability than any of the negative ones*\n",
    "\n",
    "Given the pairs of observations from normal dataframe, where each pair includes an observation from each class. We draw a grid of $n_1$ * $n_0$ representing number of positive and negative observations respectively, each grid is labeled according to their **rank** (starting from 1); for each pair we do the following:\n",
    "\n",
    "- Place tuples of corresponding prediction probability, starting with positive observations followed by negative ones\n",
    "- Highlight pairs where positive observation is weighted higher than negative ones, these represents instances of correct predictions (positive observation weighted higher than negative one)\n",
    "- The highlighted area is AUC! 13 highlighted pairs divided by 20 total pairs = 0.65.\n",
    "\n",
    "<img class=\"aligncenter\" src=\"https://drive.google.com/uc?id=19Leb8LI1uOGPxOOY5FmFcSm19RMYLXyD\" width=\"600\" height=\"600\">\n",
    "\n",
    "Closing statement:\n",
    "- AUC is the **probability** that a randomly chosen positive observation ranks higher than a randomly chosen negative one."
   ]
  },
  {
   "cell_type": "markdown",
   "metadata": {},
   "source": [
    "**<a href=\"#Toc\" style='color:#00ffff'>Table of contents</a>**"
   ]
  },
  {
   "cell_type": "markdown",
   "metadata": {},
   "source": [
    "<a id='thre'></a>"
   ]
  },
  {
   "cell_type": "markdown",
   "metadata": {},
   "source": [
    "#### Threshold moving - Enhanced\n",
    "\n",
    "We've briefly introduced threshold moving earlier and now we can enhance such approach utilizing other metrics discussed along with associated cost of errors.\n",
    "\n",
    "'Which threshold to choose?' can be better answered by asking 'what do we want our classifier to do?' Let's consider our churn problem, if a customer churn then we've lost revenue at the same time if we target loyal customers (no intention to churn) with incentives directed to potential churning customers then we've incurred excess cost.\n",
    "\n",
    "High Recall will help in capturing all potential churning customers but also may result in higher false positives (misdirecting incentives), while high precision will help target potential churning customers correctly but may result in higher false negatives (missing churning customers). There will always be a tradeoff between both metric, knowing associated costs of misclassification errors (false positives and false negatives) can help us make guided decision on which threshold to choose.\n",
    "\n",
    "Another complication is the imbalanced nature of observations, rendering some metric useless. FN (predicted No-churn but actual churn) errors are more costly than FP (predicted churn but actual no-churn) errors because for the former we lost a portion of revenue while for the latter we misdirected some of incentives to loyal customers; we'll consider that the cost of losing a customer (FN) out weights that of making both customers happy (FP - misdirecting some of incentives) and let overall cost guide our decision.\n",
    "\n",
    "Let's construct a decision guidance table including all metrics discussed earlier and the associated cost of miss-classification errors for proper comparison."
   ]
  },
  {
   "cell_type": "code",
   "execution_count": 51,
   "metadata": {},
   "outputs": [],
   "source": [
    "# Threshold moving - the full picture\n",
    "\n",
    "metric = []\n",
    "\n",
    "for _ in t:\n",
    "\n",
    "    # assigning class label above given threshold\n",
    "    y_pred_c = (y_pred >= _).astype(int)\n",
    "    \n",
    "    # metric calculation\n",
    "    tn, fp, fn, tp = confusion_matrix(y_test, y_pred_c).ravel()\n",
    "    if (tp + fp) == 0: # avoiding zero division\n",
    "        pr = 0\n",
    "    else:\n",
    "        pr = tp / (tp + fp) # precision\n",
    "    rec = tp / (tp + fn) # recall / true positive rate\n",
    "    fpr = fp / (fp + tn) # false positive rate\n",
    "    err_rate = (fp + fn) / len(y_pred_c) \n",
    "    \n",
    "    # update list\n",
    "    metric.append((tn, fp, fn, tp, err_rate, pr, rec, fpr, _))\n",
    "\n",
    "# metric dataframe \n",
    "metric_df = pd.DataFrame(metric, columns=['tn', 'fp', 'fn', 'tp', 'err_rate', 'precision', 'recall', 'fpr', 'threshold'])    \n",
    "\n",
    "# estimated error cost\n",
    "metric_df['fp_cost'], metric_df['fn_cost'] = metric_df.fp * 10, metric_df.fn * 100\n",
    "metric_df['total_misclss_cost'] = metric_df.fp_cost + metric_df.fn_cost"
   ]
  },
  {
   "cell_type": "code",
   "execution_count": 52,
   "metadata": {},
   "outputs": [
    {
     "name": "stdout",
     "output_type": "stream",
     "text": [
      "ROC_AUC: 0.83\n",
      "PR_AUC: 0.66\n"
     ]
    },
    {
     "data": {
      "text/html": [
       "<style type=\"text/css\">\n",
       "#T_3c1b6_row1_col0, #T_3c1b6_row1_col1, #T_3c1b6_row1_col2, #T_3c1b6_row1_col3, #T_3c1b6_row1_col4, #T_3c1b6_row1_col5, #T_3c1b6_row1_col6, #T_3c1b6_row1_col7, #T_3c1b6_row1_col8, #T_3c1b6_row1_col9, #T_3c1b6_row1_col10, #T_3c1b6_row1_col11, #T_3c1b6_row2_col0, #T_3c1b6_row2_col1, #T_3c1b6_row2_col2, #T_3c1b6_row2_col3, #T_3c1b6_row2_col4, #T_3c1b6_row2_col5, #T_3c1b6_row2_col6, #T_3c1b6_row2_col7, #T_3c1b6_row2_col8, #T_3c1b6_row2_col9, #T_3c1b6_row2_col10, #T_3c1b6_row2_col11, #T_3c1b6_row5_col0, #T_3c1b6_row5_col1, #T_3c1b6_row5_col2, #T_3c1b6_row5_col3, #T_3c1b6_row5_col4, #T_3c1b6_row5_col5, #T_3c1b6_row5_col6, #T_3c1b6_row5_col7, #T_3c1b6_row5_col8, #T_3c1b6_row5_col9, #T_3c1b6_row5_col10, #T_3c1b6_row5_col11 {\n",
       "  background: purple;\n",
       "}\n",
       "</style>\n",
       "<table id=\"T_3c1b6\">\n",
       "  <thead>\n",
       "    <tr>\n",
       "      <th class=\"blank level0\" >&nbsp;</th>\n",
       "      <th id=\"T_3c1b6_level0_col0\" class=\"col_heading level0 col0\" >tn</th>\n",
       "      <th id=\"T_3c1b6_level0_col1\" class=\"col_heading level0 col1\" >fp</th>\n",
       "      <th id=\"T_3c1b6_level0_col2\" class=\"col_heading level0 col2\" >fn</th>\n",
       "      <th id=\"T_3c1b6_level0_col3\" class=\"col_heading level0 col3\" >tp</th>\n",
       "      <th id=\"T_3c1b6_level0_col4\" class=\"col_heading level0 col4\" >err_rate</th>\n",
       "      <th id=\"T_3c1b6_level0_col5\" class=\"col_heading level0 col5\" >precision</th>\n",
       "      <th id=\"T_3c1b6_level0_col6\" class=\"col_heading level0 col6\" >recall</th>\n",
       "      <th id=\"T_3c1b6_level0_col7\" class=\"col_heading level0 col7\" >fpr</th>\n",
       "      <th id=\"T_3c1b6_level0_col8\" class=\"col_heading level0 col8\" >threshold</th>\n",
       "      <th id=\"T_3c1b6_level0_col9\" class=\"col_heading level0 col9\" >fp_cost</th>\n",
       "      <th id=\"T_3c1b6_level0_col10\" class=\"col_heading level0 col10\" >fn_cost</th>\n",
       "      <th id=\"T_3c1b6_level0_col11\" class=\"col_heading level0 col11\" >total_misclss_cost</th>\n",
       "    </tr>\n",
       "  </thead>\n",
       "  <tbody>\n",
       "    <tr>\n",
       "      <th id=\"T_3c1b6_level0_row0\" class=\"row_heading level0 row0\" >0</th>\n",
       "      <td id=\"T_3c1b6_row0_col0\" class=\"data row0 col0\" >0.00</td>\n",
       "      <td id=\"T_3c1b6_row0_col1\" class=\"data row0 col1\" >1,035.00</td>\n",
       "      <td id=\"T_3c1b6_row0_col2\" class=\"data row0 col2\" >0.00</td>\n",
       "      <td id=\"T_3c1b6_row0_col3\" class=\"data row0 col3\" >374.00</td>\n",
       "      <td id=\"T_3c1b6_row0_col4\" class=\"data row0 col4\" >0.73</td>\n",
       "      <td id=\"T_3c1b6_row0_col5\" class=\"data row0 col5\" >0.27</td>\n",
       "      <td id=\"T_3c1b6_row0_col6\" class=\"data row0 col6\" >1.00</td>\n",
       "      <td id=\"T_3c1b6_row0_col7\" class=\"data row0 col7\" >1.00</td>\n",
       "      <td id=\"T_3c1b6_row0_col8\" class=\"data row0 col8\" >0.00</td>\n",
       "      <td id=\"T_3c1b6_row0_col9\" class=\"data row0 col9\" >10,350.00</td>\n",
       "      <td id=\"T_3c1b6_row0_col10\" class=\"data row0 col10\" >0.00</td>\n",
       "      <td id=\"T_3c1b6_row0_col11\" class=\"data row0 col11\" >10,350.00</td>\n",
       "    </tr>\n",
       "    <tr>\n",
       "      <th id=\"T_3c1b6_level0_row1\" class=\"row_heading level0 row1\" >10</th>\n",
       "      <td id=\"T_3c1b6_row1_col0\" class=\"data row1 col0\" >495.00</td>\n",
       "      <td id=\"T_3c1b6_row1_col1\" class=\"data row1 col1\" >540.00</td>\n",
       "      <td id=\"T_3c1b6_row1_col2\" class=\"data row1 col2\" >30.00</td>\n",
       "      <td id=\"T_3c1b6_row1_col3\" class=\"data row1 col3\" >344.00</td>\n",
       "      <td id=\"T_3c1b6_row1_col4\" class=\"data row1 col4\" >0.40</td>\n",
       "      <td id=\"T_3c1b6_row1_col5\" class=\"data row1 col5\" >0.39</td>\n",
       "      <td id=\"T_3c1b6_row1_col6\" class=\"data row1 col6\" >0.92</td>\n",
       "      <td id=\"T_3c1b6_row1_col7\" class=\"data row1 col7\" >0.52</td>\n",
       "      <td id=\"T_3c1b6_row1_col8\" class=\"data row1 col8\" >0.10</td>\n",
       "      <td id=\"T_3c1b6_row1_col9\" class=\"data row1 col9\" >5,400.00</td>\n",
       "      <td id=\"T_3c1b6_row1_col10\" class=\"data row1 col10\" >3,000.00</td>\n",
       "      <td id=\"T_3c1b6_row1_col11\" class=\"data row1 col11\" >8,400.00</td>\n",
       "    </tr>\n",
       "    <tr>\n",
       "      <th id=\"T_3c1b6_level0_row2\" class=\"row_heading level0 row2\" >20</th>\n",
       "      <td id=\"T_3c1b6_row2_col0\" class=\"data row2 col0\" >685.00</td>\n",
       "      <td id=\"T_3c1b6_row2_col1\" class=\"data row2 col1\" >350.00</td>\n",
       "      <td id=\"T_3c1b6_row2_col2\" class=\"data row2 col2\" >63.00</td>\n",
       "      <td id=\"T_3c1b6_row2_col3\" class=\"data row2 col3\" >311.00</td>\n",
       "      <td id=\"T_3c1b6_row2_col4\" class=\"data row2 col4\" >0.29</td>\n",
       "      <td id=\"T_3c1b6_row2_col5\" class=\"data row2 col5\" >0.47</td>\n",
       "      <td id=\"T_3c1b6_row2_col6\" class=\"data row2 col6\" >0.83</td>\n",
       "      <td id=\"T_3c1b6_row2_col7\" class=\"data row2 col7\" >0.34</td>\n",
       "      <td id=\"T_3c1b6_row2_col8\" class=\"data row2 col8\" >0.20</td>\n",
       "      <td id=\"T_3c1b6_row2_col9\" class=\"data row2 col9\" >3,500.00</td>\n",
       "      <td id=\"T_3c1b6_row2_col10\" class=\"data row2 col10\" >6,300.00</td>\n",
       "      <td id=\"T_3c1b6_row2_col11\" class=\"data row2 col11\" >9,800.00</td>\n",
       "    </tr>\n",
       "    <tr>\n",
       "      <th id=\"T_3c1b6_level0_row3\" class=\"row_heading level0 row3\" >30</th>\n",
       "      <td id=\"T_3c1b6_row3_col0\" class=\"data row3 col0\" >794.00</td>\n",
       "      <td id=\"T_3c1b6_row3_col1\" class=\"data row3 col1\" >241.00</td>\n",
       "      <td id=\"T_3c1b6_row3_col2\" class=\"data row3 col2\" >97.00</td>\n",
       "      <td id=\"T_3c1b6_row3_col3\" class=\"data row3 col3\" >277.00</td>\n",
       "      <td id=\"T_3c1b6_row3_col4\" class=\"data row3 col4\" >0.24</td>\n",
       "      <td id=\"T_3c1b6_row3_col5\" class=\"data row3 col5\" >0.53</td>\n",
       "      <td id=\"T_3c1b6_row3_col6\" class=\"data row3 col6\" >0.74</td>\n",
       "      <td id=\"T_3c1b6_row3_col7\" class=\"data row3 col7\" >0.23</td>\n",
       "      <td id=\"T_3c1b6_row3_col8\" class=\"data row3 col8\" >0.30</td>\n",
       "      <td id=\"T_3c1b6_row3_col9\" class=\"data row3 col9\" >2,410.00</td>\n",
       "      <td id=\"T_3c1b6_row3_col10\" class=\"data row3 col10\" >9,700.00</td>\n",
       "      <td id=\"T_3c1b6_row3_col11\" class=\"data row3 col11\" >12,110.00</td>\n",
       "    </tr>\n",
       "    <tr>\n",
       "      <th id=\"T_3c1b6_level0_row4\" class=\"row_heading level0 row4\" >40</th>\n",
       "      <td id=\"T_3c1b6_row4_col0\" class=\"data row4 col0\" >870.00</td>\n",
       "      <td id=\"T_3c1b6_row4_col1\" class=\"data row4 col1\" >165.00</td>\n",
       "      <td id=\"T_3c1b6_row4_col2\" class=\"data row4 col2\" >132.00</td>\n",
       "      <td id=\"T_3c1b6_row4_col3\" class=\"data row4 col3\" >242.00</td>\n",
       "      <td id=\"T_3c1b6_row4_col4\" class=\"data row4 col4\" >0.21</td>\n",
       "      <td id=\"T_3c1b6_row4_col5\" class=\"data row4 col5\" >0.59</td>\n",
       "      <td id=\"T_3c1b6_row4_col6\" class=\"data row4 col6\" >0.65</td>\n",
       "      <td id=\"T_3c1b6_row4_col7\" class=\"data row4 col7\" >0.16</td>\n",
       "      <td id=\"T_3c1b6_row4_col8\" class=\"data row4 col8\" >0.40</td>\n",
       "      <td id=\"T_3c1b6_row4_col9\" class=\"data row4 col9\" >1,650.00</td>\n",
       "      <td id=\"T_3c1b6_row4_col10\" class=\"data row4 col10\" >13,200.00</td>\n",
       "      <td id=\"T_3c1b6_row4_col11\" class=\"data row4 col11\" >14,850.00</td>\n",
       "    </tr>\n",
       "    <tr>\n",
       "      <th id=\"T_3c1b6_level0_row5\" class=\"row_heading level0 row5\" >50</th>\n",
       "      <td id=\"T_3c1b6_row5_col0\" class=\"data row5 col0\" >935.00</td>\n",
       "      <td id=\"T_3c1b6_row5_col1\" class=\"data row5 col1\" >100.00</td>\n",
       "      <td id=\"T_3c1b6_row5_col2\" class=\"data row5 col2\" >172.00</td>\n",
       "      <td id=\"T_3c1b6_row5_col3\" class=\"data row5 col3\" >202.00</td>\n",
       "      <td id=\"T_3c1b6_row5_col4\" class=\"data row5 col4\" >0.19</td>\n",
       "      <td id=\"T_3c1b6_row5_col5\" class=\"data row5 col5\" >0.67</td>\n",
       "      <td id=\"T_3c1b6_row5_col6\" class=\"data row5 col6\" >0.54</td>\n",
       "      <td id=\"T_3c1b6_row5_col7\" class=\"data row5 col7\" >0.10</td>\n",
       "      <td id=\"T_3c1b6_row5_col8\" class=\"data row5 col8\" >0.50</td>\n",
       "      <td id=\"T_3c1b6_row5_col9\" class=\"data row5 col9\" >1,000.00</td>\n",
       "      <td id=\"T_3c1b6_row5_col10\" class=\"data row5 col10\" >17,200.00</td>\n",
       "      <td id=\"T_3c1b6_row5_col11\" class=\"data row5 col11\" >18,200.00</td>\n",
       "    </tr>\n",
       "    <tr>\n",
       "      <th id=\"T_3c1b6_level0_row6\" class=\"row_heading level0 row6\" >60</th>\n",
       "      <td id=\"T_3c1b6_row6_col0\" class=\"data row6 col0\" >978.00</td>\n",
       "      <td id=\"T_3c1b6_row6_col1\" class=\"data row6 col1\" >57.00</td>\n",
       "      <td id=\"T_3c1b6_row6_col2\" class=\"data row6 col2\" >224.00</td>\n",
       "      <td id=\"T_3c1b6_row6_col3\" class=\"data row6 col3\" >150.00</td>\n",
       "      <td id=\"T_3c1b6_row6_col4\" class=\"data row6 col4\" >0.20</td>\n",
       "      <td id=\"T_3c1b6_row6_col5\" class=\"data row6 col5\" >0.72</td>\n",
       "      <td id=\"T_3c1b6_row6_col6\" class=\"data row6 col6\" >0.40</td>\n",
       "      <td id=\"T_3c1b6_row6_col7\" class=\"data row6 col7\" >0.06</td>\n",
       "      <td id=\"T_3c1b6_row6_col8\" class=\"data row6 col8\" >0.60</td>\n",
       "      <td id=\"T_3c1b6_row6_col9\" class=\"data row6 col9\" >570.00</td>\n",
       "      <td id=\"T_3c1b6_row6_col10\" class=\"data row6 col10\" >22,400.00</td>\n",
       "      <td id=\"T_3c1b6_row6_col11\" class=\"data row6 col11\" >22,970.00</td>\n",
       "    </tr>\n",
       "    <tr>\n",
       "      <th id=\"T_3c1b6_level0_row7\" class=\"row_heading level0 row7\" >70</th>\n",
       "      <td id=\"T_3c1b6_row7_col0\" class=\"data row7 col0\" >1,013.00</td>\n",
       "      <td id=\"T_3c1b6_row7_col1\" class=\"data row7 col1\" >22.00</td>\n",
       "      <td id=\"T_3c1b6_row7_col2\" class=\"data row7 col2\" >297.00</td>\n",
       "      <td id=\"T_3c1b6_row7_col3\" class=\"data row7 col3\" >77.00</td>\n",
       "      <td id=\"T_3c1b6_row7_col4\" class=\"data row7 col4\" >0.23</td>\n",
       "      <td id=\"T_3c1b6_row7_col5\" class=\"data row7 col5\" >0.78</td>\n",
       "      <td id=\"T_3c1b6_row7_col6\" class=\"data row7 col6\" >0.21</td>\n",
       "      <td id=\"T_3c1b6_row7_col7\" class=\"data row7 col7\" >0.02</td>\n",
       "      <td id=\"T_3c1b6_row7_col8\" class=\"data row7 col8\" >0.70</td>\n",
       "      <td id=\"T_3c1b6_row7_col9\" class=\"data row7 col9\" >220.00</td>\n",
       "      <td id=\"T_3c1b6_row7_col10\" class=\"data row7 col10\" >29,700.00</td>\n",
       "      <td id=\"T_3c1b6_row7_col11\" class=\"data row7 col11\" >29,920.00</td>\n",
       "    </tr>\n",
       "    <tr>\n",
       "      <th id=\"T_3c1b6_level0_row8\" class=\"row_heading level0 row8\" >80</th>\n",
       "      <td id=\"T_3c1b6_row8_col0\" class=\"data row8 col0\" >1,033.00</td>\n",
       "      <td id=\"T_3c1b6_row8_col1\" class=\"data row8 col1\" >2.00</td>\n",
       "      <td id=\"T_3c1b6_row8_col2\" class=\"data row8 col2\" >356.00</td>\n",
       "      <td id=\"T_3c1b6_row8_col3\" class=\"data row8 col3\" >18.00</td>\n",
       "      <td id=\"T_3c1b6_row8_col4\" class=\"data row8 col4\" >0.25</td>\n",
       "      <td id=\"T_3c1b6_row8_col5\" class=\"data row8 col5\" >0.90</td>\n",
       "      <td id=\"T_3c1b6_row8_col6\" class=\"data row8 col6\" >0.05</td>\n",
       "      <td id=\"T_3c1b6_row8_col7\" class=\"data row8 col7\" >0.00</td>\n",
       "      <td id=\"T_3c1b6_row8_col8\" class=\"data row8 col8\" >0.80</td>\n",
       "      <td id=\"T_3c1b6_row8_col9\" class=\"data row8 col9\" >20.00</td>\n",
       "      <td id=\"T_3c1b6_row8_col10\" class=\"data row8 col10\" >35,600.00</td>\n",
       "      <td id=\"T_3c1b6_row8_col11\" class=\"data row8 col11\" >35,620.00</td>\n",
       "    </tr>\n",
       "    <tr>\n",
       "      <th id=\"T_3c1b6_level0_row9\" class=\"row_heading level0 row9\" >90</th>\n",
       "      <td id=\"T_3c1b6_row9_col0\" class=\"data row9 col0\" >1,035.00</td>\n",
       "      <td id=\"T_3c1b6_row9_col1\" class=\"data row9 col1\" >0.00</td>\n",
       "      <td id=\"T_3c1b6_row9_col2\" class=\"data row9 col2\" >374.00</td>\n",
       "      <td id=\"T_3c1b6_row9_col3\" class=\"data row9 col3\" >0.00</td>\n",
       "      <td id=\"T_3c1b6_row9_col4\" class=\"data row9 col4\" >0.27</td>\n",
       "      <td id=\"T_3c1b6_row9_col5\" class=\"data row9 col5\" >0.00</td>\n",
       "      <td id=\"T_3c1b6_row9_col6\" class=\"data row9 col6\" >0.00</td>\n",
       "      <td id=\"T_3c1b6_row9_col7\" class=\"data row9 col7\" >0.00</td>\n",
       "      <td id=\"T_3c1b6_row9_col8\" class=\"data row9 col8\" >0.90</td>\n",
       "      <td id=\"T_3c1b6_row9_col9\" class=\"data row9 col9\" >0.00</td>\n",
       "      <td id=\"T_3c1b6_row9_col10\" class=\"data row9 col10\" >37,400.00</td>\n",
       "      <td id=\"T_3c1b6_row9_col11\" class=\"data row9 col11\" >37,400.00</td>\n",
       "    </tr>\n",
       "    <tr>\n",
       "      <th id=\"T_3c1b6_level0_row10\" class=\"row_heading level0 row10\" >100</th>\n",
       "      <td id=\"T_3c1b6_row10_col0\" class=\"data row10 col0\" >1,035.00</td>\n",
       "      <td id=\"T_3c1b6_row10_col1\" class=\"data row10 col1\" >0.00</td>\n",
       "      <td id=\"T_3c1b6_row10_col2\" class=\"data row10 col2\" >374.00</td>\n",
       "      <td id=\"T_3c1b6_row10_col3\" class=\"data row10 col3\" >0.00</td>\n",
       "      <td id=\"T_3c1b6_row10_col4\" class=\"data row10 col4\" >0.27</td>\n",
       "      <td id=\"T_3c1b6_row10_col5\" class=\"data row10 col5\" >0.00</td>\n",
       "      <td id=\"T_3c1b6_row10_col6\" class=\"data row10 col6\" >0.00</td>\n",
       "      <td id=\"T_3c1b6_row10_col7\" class=\"data row10 col7\" >0.00</td>\n",
       "      <td id=\"T_3c1b6_row10_col8\" class=\"data row10 col8\" >1.00</td>\n",
       "      <td id=\"T_3c1b6_row10_col9\" class=\"data row10 col9\" >0.00</td>\n",
       "      <td id=\"T_3c1b6_row10_col10\" class=\"data row10 col10\" >37,400.00</td>\n",
       "      <td id=\"T_3c1b6_row10_col11\" class=\"data row10 col11\" >37,400.00</td>\n",
       "    </tr>\n",
       "  </tbody>\n",
       "</table>\n"
      ],
      "text/plain": [
       "<pandas.io.formats.style.Styler at 0x9e6009c3a0>"
      ]
     },
     "execution_count": 52,
     "metadata": {},
     "output_type": "execute_result"
    }
   ],
   "source": [
    "# Display Results\n",
    "\n",
    "print('ROC_AUC: ', roc_auc_score(y_test, y_pred).round(2), '\\n', 'PR_AUC: ', auc(metric_df.recall, metric_df.precision).round(2), \n",
    "      sep = '')\n",
    "\n",
    "metric_df[::10].style.format('{:,.2f}').apply(lambda x: ['background: purple' if x.name in [10,20,50] else '' for i in x], \n",
    "                                              axis = 1)"
   ]
  },
  {
   "cell_type": "markdown",
   "metadata": {},
   "source": [
    "Adding costs to confusion matrix enabled monetization of predictions errors, these costs are estimates based on our belief that FN errors outweighs FP ones.\n",
    "\n",
    "At threshold 0 and 1 we obtain cost of not using predictive modeling, either sending incentives to all customers (t = 0) or just ignore the situation (t = 1), in between is the value our model brings. We can go for higher recall over precision (t = .1 or .2) or a take a more balanced route (t = .5).\n",
    "\n",
    "It's interesting to note how significantly ROC_AUC varies from PR_AUC, precision recall (PR) curve focus on positive observations (minority class in imbalanced classification) and portrays less optimistic view of model performance given that ROC curve is shadowed by the large number of negative observations (majority class).\n",
    "\n",
    "Clearly our model needs improvement; we can now compare our model as is to subsequent adjustments or even different models."
   ]
  },
  {
   "cell_type": "markdown",
   "metadata": {},
   "source": [
    "**<a href=\"#Toc\" style='color:#00ffff'>Table of contents</a>**"
   ]
  }
 ],
 "metadata": {
  "hide_input": false,
  "kernelspec": {
   "display_name": "Python 3 (ipykernel)",
   "language": "python",
   "name": "python3"
  },
  "language_info": {
   "codemirror_mode": {
    "name": "ipython",
    "version": 3
   },
   "file_extension": ".py",
   "mimetype": "text/x-python",
   "name": "python",
   "nbconvert_exporter": "python",
   "pygments_lexer": "ipython3",
   "version": "3.9.4"
  },
  "toc": {
   "base_numbering": 1,
   "nav_menu": {},
   "number_sections": false,
   "sideBar": true,
   "skip_h1_title": false,
   "title_cell": "Table of Contents",
   "title_sidebar": "Contents",
   "toc_cell": false,
   "toc_position": {
    "height": "517px",
    "left": "210px",
    "top": "146px",
    "width": "272.797px"
   },
   "toc_section_display": true,
   "toc_window_display": false
  }
 },
 "nbformat": 4,
 "nbformat_minor": 2
}
